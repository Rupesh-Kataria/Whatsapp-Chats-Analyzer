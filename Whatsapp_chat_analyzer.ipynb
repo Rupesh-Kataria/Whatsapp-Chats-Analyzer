{
  "cells": [
    {
      "cell_type": "code",
      "execution_count": null,
      "metadata": {
        "id": "YW08vneKZwv7"
      },
      "outputs": [],
      "source": [
        "import pandas as pd\n",
        "import re"
      ]
    },
    {
      "cell_type": "code",
      "execution_count": null,
      "metadata": {
        "id": "WWnQbIGbaIOu"
      },
      "outputs": [],
      "source": [
        "#open file using file handling\n",
        "f=open('/content/WhatsApp Chat with MS Mech.txt','r',encoding ='utf-8')"
      ]
    },
    {
      "cell_type": "code",
      "execution_count": null,
      "metadata": {
        "id": "3MYSxzWTaTmO"
      },
      "outputs": [],
      "source": [
        "#reading file content in the form string\n",
        "data=f.read()"
      ]
    },
    {
      "cell_type": "code",
      "execution_count": null,
      "metadata": {
        "colab": {
          "base_uri": "https://localhost:8080/",
          "height": 215
        },
        "id": "USmn7hWPaoLv",
        "outputId": "21646057-c6cb-4d85-d7fe-acfaaa44f33d"
      },
      "outputs": [
        {
          "data": {
            "application/vnd.google.colaboratory.intrinsic+json": {
              "type": "string"
            },
            "text/plain": [
              "'2/25/22, 09:41 - Messages and calls are end-to-end encrypted. No one outside of this chat, not even WhatsApp, can read or listen to them. Tap to learn more.\\n2/25/22, 09:41 - Shivesh created group \"MS Mech\"\\n2/25/22, 09:41 - Shivesh added you\\n2/25/22, 09:41 - Shivesh: <Media omitted>\\n2/25/22, 09:43 - Jithin Vinod: <Media omitted>\\n2/25/22, 09:45 - lambu: <Media omitted>\\n2/25/22, 09:48 - Jithin Vinod: https://www.sarthaks.com/452994/cylinder-piston-arrangement-contains-water-quality-volume-system-heated-causing-piston\\n2/25/22, 09:48 - Jithin Vinod: values diff\\n2/25/22, 09:48 - Jithin Vinod: 2nd\\n2/25/22, 09:49 - Shivesh added Jatin 🏃\\n2/25/22, 09:50 - Jatin 🏃: Pahla bhejo\\n2/25/22, 09:51 - Jithin Vinod: https://www.chegg.com/homework-help/questions-and-answers/390-superheated-refrigerant-r-134a-20-c-100-kpa-cooled-piston-cylinder-arrangement-constan-q34789975\\n2/25/22, 09:51 - Jithin Vinod: 4th prolly\\n2/25/22, 09:51 - Shivesh: @917587236895\\n2/25/22, 09:51 - Shivesh: @917000482116\\n2/25/22, 09:52 - Jithin Vinod: <Media omitted>\\n2/25/22, 09:52 - Jithin Vinod: <Media omitted>\\n2/25/22, 09:52 - Jithin Vinod: 4th\\n2/25/22, 09:53 - Akshat Jaiswal: okk\\n2/25/22, 09:53 - Akshat Jaiswal: 3rd kb hua lekin\\n2/25/22, 09:53 - Shivesh: Bsdk nahi hua\\n2/25/22, 09:53 - Shivesh: Divide kiya hai\\n2/25/22, 09:53 - Shivesh: Aapas mein\\n2/25/22, 09:53 - Akshat Jaiswal: achcha\\n2/25/22, 09:53 - Akshat Jaiswal: gd\\n2/25/22, 09:59 - Rupesh Kataria: <Media omitted>\\n2/25/22, 09:59 - Rupesh Kataria: <Media omitted>\\n2/25/22, 10:00 - Nitesh Kumar Meena: <Media omitted>\\n2/25/22, 10:02 - Nitesh Kumar Meena: <Media omitted>\\n2/25/22, 10:02 - Nitesh Kumar Meena: <Media omitted>\\n2/25/22, 10:03 - Shivesh: <Media omitted>\\n2/25/22, 10:03 - Shivesh: <Media omitted>\\n2/25/22, 10:03 - Shivesh: <Media omitted>\\n2/25/22, 10:04 - Jatin 🏃: Q2 chahiye\\n2/25/22, 10:04 - Jatin 🏃: Kis kisne kar lia\\n2/25/22, 10:14 - lambu: <Media omitted>\\n2/25/22, 10:14 - Shivesh: Ye answerr bahar naa jaye\\n2/25/22, 10:14 - Jatin 🏃: Ok🤩\\n2/25/22, 10:22 - Jithin Vinod: <Media omitted>\\n2/25/22, 10:23 - Akshat Jaiswal: Iska aage ka part vro\\n2/25/22, 10:24 - Akshat Jaiswal: @918840884608\\n2/25/22, 10:25 - Shivesh: <Media omitted>\\n2/25/22, 10:25 - Shivesh: <Media omitted>\\n2/25/22, 10:25 - Shivesh: <Media omitted>\\n2/25/22, 10:25 - Shivesh: <Media omitted>\\n2/25/22, 10:25 - Shivesh: <Media omitted>\\n2/25/22, 10:26 - Jatin 🏃: Konaa kiska hai\\n2/25/22, 10:26 - Jatin 🏃: Muje nhi pta chalra\\n2/25/22, 10:28 - Jithin Vinod: <Media omitted>\\n2/25/22, 10:30 - Shivesh: This message was deleted\\n2/25/22, 10:30 - Rupesh Kataria: <Media omitted>\\n2/25/22, 10:30 - Shivesh: <Media omitted>\\n2/25/22, 10:30 - Shivesh: <Media omitted>\\n2/25/22, 10:33 - Jatin 🏃: Iske rihht sude\\n2/25/22, 10:33 - Jatin 🏃: Me diagram hai\\n2/25/22, 10:33 - Jatin 🏃: Vo to bejo\\n2/25/22, 10:38 - Nitesh Kumar Meena: 5\\n2/25/22, 10:38 - Shivesh: <Media omitted>\\n2/25/22, 10:38 - Shivesh: <Media omitted>\\n2/25/22, 10:38 - Shivesh: <Media omitted>\\n2/25/22, 10:38 - lambu: <Media omitted>\\n2/25/22, 10:38 - Shivesh: <Media omitted>\\n2/25/22, 10:38 - Shivesh: <Media omitted>\\n2/25/22, 10:38 - Shivesh: <Media omitted>\\n2/25/22, 10:39 - Akshat Jaiswal: Q no?\\n2/25/22, 10:48 - Jatin 🏃: Nhai 2.5 qsn hi hue ns\\n2/25/22, 10:48 - Jatin 🏃: Bs\\n2/25/22, 10:48 - Jatin 🏃: Boht bura gua 😭\\U0001f972\\n2/25/22, 10:49 - Akshat Jaiswal: 2.5 bs?\\n2/25/22, 10:49 - Jatin 🏃: Han\\n2/25/22, 10:50 - Akshat Jaiswal: Mere to hue hi 5\\n2/25/22, 10:50 - Akshat Jaiswal: <Media omitted>\\n2/25/22, 10:52 - Shivesh: <Media omitted>\\n2/25/22, 10:52 - Shivesh: <Media omitted>\\n2/25/22, 10:52 - Shivesh: <Media omitted>\\n2/25/22, 10:52 - Shivesh: <Media omitted>\\n2/25/22, 11:03 - Shivesh: <Media omitted>\\n2/25/22, 11:03 - Shivesh: <Media omitted>\\n2/25/22, 11:40 - Shivesh added Azhar Naseeh\\n2/25/22, 11:51 - lambu: <Media omitted>\\n2/25/22, 11:51 - lambu: <Media omitted>\\n2/25/22, 11:52 - Rupesh Kataria: Which question answer ?\\n2/25/22, 11:53 - Nitesh Kumar Meena: <Media omitted>\\n2/25/22, 11:54 - Jithin Vinod: <Media omitted>\\n2/25/22, 11:54 - Azhar Naseeh: <Media omitted>\\n2/25/22, 11:59 - Azhar Naseeh: <Media omitted>\\n2/25/22, 12:02 - Rupesh Kataria: <Media omitted>\\n2/25/22, 12:06 - Azhar Naseeh: <Media omitted>\\n2/25/22, 12:06 - Azhar Naseeh: <Media omitted>\\n2/25/22, 12:07 - Nitesh Kumar Meena: <Media omitted>\\n2/25/22, 12:07 - Nitesh Kumar Meena: <Media omitted>\\n2/25/22, 12:08 - lambu: <Media omitted>\\n2/25/22, 12:08 - lambu: <Media omitted>\\n2/25/22, 12:19 - Rupesh Kataria: <Media omitted>\\n2/25/22, 12:26 - Akshat Jaiswal: Thoda paas se dedo vro\\n2/25/22, 12:29 - Nitesh Kumar Meena: <Media omitted>\\n2/25/22, 12:29 - Nitesh Kumar Meena: <Media omitted>\\n2/25/22, 12:29 - Nitesh Kumar Meena: <Media omitted>\\n2/25/22, 12:29 - Nitesh Kumar Meena: <Media omitted>\\n2/25/22, 12:29 - Nitesh Kumar Meena: <Media omitted>\\n2/25/22, 12:29 - lambu: <Media omitted>\\n2/25/22, 12:30 - Shivesh: <Media omitted>\\n2/25/22, 12:44 - lambu: <Media omitted>\\n2/25/22, 12:44 - lambu: <Media omitted>\\n2/25/22, 12:46 - Nitesh Kumar Meena: <Media omitted>\\n3/1/22, 16:06 - Shivesh: This message was deleted\\n3/1/22, 16:06 - Shivesh: This message was deleted\\n3/1/22, 16:06 - Shivesh: This message was deleted\\n3/1/22, 16:06 - Shivesh: This message was deleted\\n3/1/22, 16:11 - Jatin 🏃: Marks aa gye\\n3/1/22, 16:11 - Jatin 🏃: 🌚🌚\\n3/8/22, 16:56 - Jatin 🏃: Bhaiiyon\\n3/8/22, 16:56 - Jatin 🏃: Test is compulsory\\nBest of the one will be considered\\n3/8/22, 16:57 - Jatin 🏃: Aur jiske pahle jyada aye the ........vooooo....ahmm ahmmmmm\\n3/8/22, 16:57 - Jatin 🏃: Jyada difference hua marks me to ........aaahmmmmmm\\n3/8/22, 17:02 - Shivesh: 😱\\n4/2/22, 14:20 - Jithin Vinod: Xam he na\\n4/2/22, 14:20 - Jithin Vinod: Kiske room se?\\n4/2/22, 14:50 - Shivesh: Ashok\\n4/2/22, 14:51 - Shivesh added Lilesh and Vidhu Vikas Singh\\n4/2/22, 14:51 - Akshat Jaiswal: randi h\\n4/2/22, 14:51 - Shivesh: https://chat.whatsapp.com/IXDYg8jLVSE20bJXGXCd31\\n4/2/22, 14:55 - Shivesh added +91 94525 45818\\n4/2/22, 15:01 - Shivesh: https://chat.whatsapp.com/IXDYg8jLVSE20bJXGXCd31\\n4/2/22, 15:06 - Shivesh: <Media omitted>\\n4/2/22, 15:06 - Shivesh added Aadarsh Agnihotri ME Dual KGP and Deepak\\n4/2/22, 15:07 - Deepak: <Media omitted>\\n4/2/22, 15:07 - Deepak: <Media omitted>\\n4/2/22, 15:08 - Rupesh Kataria: <Media omitted>\\n4/2/22, 15:08 - Lilesh: <Media omitted>\\n4/2/22, 15:08 - Deepak: <Media omitted>\\n4/2/22, 15:08 - Deepak: <Media omitted>\\n4/2/22, 15:08 - Lilesh: <Media omitted>\\n4/2/22, 15:08 - Lilesh: <Media omitted>\\n4/2/22, 15:08 - Lilesh: <Media omitted>\\n4/2/22, 15:08 - Lilesh: <Media omitted>\\n4/2/22, 15:09 - Deepak: <Media omitted>\\n4/2/22, 15:09 - Shivesh: Forwarded mat bhejo koi\\n4/2/22, 15:09 - Shivesh: @919302096745 @919131096437\\n4/2/22, 15:09 - Shivesh: Bas confirmed honge udhar\\n4/2/22, 15:09 - Deepak: Confirmed h\\n4/2/22, 15:10 - Rupesh Kataria: <Media omitted>\\n4/2/22, 15:11 - Akshat Jaiswal: <Media omitted>\\n4/2/22, 15:12 - Deepak: Navigation h🥳🥳\\n4/2/22, 15:12 - Akshat Jaiswal: <Media omitted>\\n4/2/22, 15:14 - Aadarsh Agnihotri ME Dual KGP: <Media omitted>\\n4/2/22, 15:14 - Aadarsh Agnihotri ME Dual KGP: <Media omitted>\\n4/2/22, 15:14 - Akshat Jaiswal: <Media omitted>\\n4/2/22, 15:19 - Akshat Jaiswal: <Media omitted>\\n4/2/22, 15:21 - Akshat Jaiswal: <Media omitted>\\n4/2/22, 15:22 - Shivesh: <Media omitted>\\n4/2/22, 15:26 - Shivesh: <Media omitted>\\n4/2/22, 15:27 - Shivesh: <Media omitted>\\n4/2/22, 15:30 - Jithin Vinod: <Media omitted>\\n4/2/22, 15:30 - Jithin Vinod: B\\n4/2/22, 15:33 - Akshat Jaiswal: <Media omitted>\\n4/2/22, 15:35 - Aadarsh Agnihotri ME Dual KGP: <Media omitted>\\n4/2/22, 15:36 - Akshat Jaiswal: <Media omitted>\\n4/2/22, 15:38 - Akshat Jaiswal: <Media omitted>\\n4/2/22, 15:38 - Shivesh: <Media omitted>\\n4/2/22, 15:39 - Akshat Jaiswal: <Media omitted>\\n4/2/22, 15:41 - Shivesh: <Media omitted>\\n4/2/22, 15:42 - Lilesh: <Media omitted>\\n4/2/22, 15:43 - Akshat Jaiswal: <Media omitted>\\n4/2/22, 15:44 - Akshat Jaiswal: <Media omitted>\\n4/2/22, 15:48 - Akshat Jaiswal: <Media omitted>\\n4/2/22, 15:48 - Akshat Jaiswal: <Media omitted>\\n4/2/22, 15:49 - Akshat Jaiswal: <Media omitted>\\n4/2/22, 15:50 - Akshat Jaiswal: <Media omitted>\\n4/2/22, 15:51 - Akshat Jaiswal: <Media omitted>\\n4/2/22, 15:52 - Lilesh: <Media omitted>\\n4/2/22, 15:52 - Lilesh: bataoo\\n4/2/22, 15:53 - Aadarsh Agnihotri ME Dual KGP: <Media omitted>\\n4/2/22, 15:57 - Aadarsh Agnihotri ME Dual KGP: <Media omitted>\\n4/2/22, 15:59 - +91 94525 45818: <Media omitted>\\n4/2/22, 16:01 - +91 94525 45818: <Media omitted>\\n4/2/22, 16:02 - +91 94525 45818: <Media omitted>\\n4/2/22, 16:03 - +91 94525 45818: <Media omitted>\\n4/2/22, 16:04 - +91 94525 45818: Ye btao please\\n4/3/22, 16:03 - Jatin 🏃: The more Treasure can be explored in books than all pirates \"loot on Treasure Island\"  your wait for the most exciting event of the fest is over. To remove the boredom and provide some fun, PRAKRITI-2022 is presenting you with an online-treasure hunt event, focusing on learning facts in the most adventurous way possible! Gather your gears and get ready for the hunt! \\n\\nYou can follow the following steps to play the treasure hunt on 3rd April, 4 PM onwards:\\nHere is the link to play the exciting game of treasure hunt\\nhttps://docs.google.com/forms/d/e/1FAIpQLSelI1FWiwAOD-siE17_HoeBypNkc7EQ-Mn7fe7s9tx20jyAfg/viewform?vc=0&c=0&w=1&flr=0\\n\\nThe links would be activated 5 minutes before the Treasure Hunt starts.\\n4/3/22, 23:41 - Shivesh: <Media omitted>\\n4/3/22, 23:41 - Shivesh: <Media omitted>\\n4/3/22, 23:47 - Aadarsh Agnihotri ME Dual KGP: <Media omitted>\\n4/3/22, 23:47 - Aadarsh Agnihotri ME Dual KGP: <Media omitted>\\n4/3/22, 23:48 - Jatin 🏃: This message was deleted\\n4/3/22, 23:48 - Jatin 🏃: This message was deleted\\n4/3/22, 23:48 - Jatin 🏃: This message was deleted\\n4/4/22, 00:04 - Deepak: This message was deleted\\n4/5/22, 15:11 - Aadarsh Agnihotri ME Dual KGP: Bhai log bsdko\\n4/5/22, 15:11 - Shivesh: <Media omitted>\\n4/5/22, 15:11 - Aadarsh Agnihotri ME Dual KGP: Bhejo\\n4/5/22, 15:12 - Shivesh: <Media omitted>\\n4/5/22, 15:13 - Shivesh: <Media omitted>\\n4/5/22, 15:13 - Shivesh: <Media omitted>\\n4/5/22, 15:13 - Shivesh: <Media omitted>\\n4/5/22, 15:13 - Shivesh: <Media omitted>\\n4/5/22, 15:16 - Aadarsh Agnihotri ME Dual KGP: Q1-3 has more than one correct\\n4/5/22, 15:17 - Aadarsh Agnihotri ME Dual KGP: Bhai log 1-3 ke baki ke option bhi dekh lo ek bar\\n4/5/22, 15:26 - Aadarsh Agnihotri ME Dual KGP: So gye kya 🙂\\n4/5/22, 15:26 - Aadarsh Agnihotri ME Dual KGP: <Media omitted>\\n4/5/22, 15:29 - Deepak: Bhej r confirm kariyo\\n4/5/22, 15:29 - Aadarsh Agnihotri ME Dual KGP: Hn bhai 😢\\U0001fac2\\n4/5/22, 15:30 - Deepak: <Media omitted>\\n4/5/22, 15:30 - Deepak: <Media omitted>\\n4/5/22, 15:30 - Deepak: <Media omitted>\\n4/5/22, 15:31 - Deepak: <Media omitted>\\n4/5/22, 15:31 - Deepak: <Media omitted>\\n4/5/22, 15:31 - Deepak: <Media omitted>\\n4/5/22, 15:32 - Deepak: <Media omitted>\\n4/5/22, 15:32 - Shivesh: <Media omitted>\\n4/5/22, 15:32 - Deepak: <Media omitted>\\n4/5/22, 15:33 - Shivesh: <Media omitted>\\n4/5/22, 15:33 - Shivesh: <Media omitted>\\n4/5/22, 15:33 - Deepak: <Media omitted>\\n4/5/22, 15:33 - Shivesh: <Media omitted>\\n4/5/22, 15:33 - Deepak: <Media omitted>\\n4/5/22, 15:33 - Shivesh: This message was deleted\\n4/5/22, 15:34 - Shivesh: <Media omitted>\\n4/5/22, 15:38 - Deepak: 18 mila\\n4/5/22, 15:39 - Akshat Jaiswal: bhj phr\\n4/5/22, 15:39 - Aadarsh Agnihotri ME Dual KGP: 16 ke bad ke bhej do\\n4/5/22, 15:39 - Aadarsh Agnihotri ME Dual KGP: Time nhi bacha\\n4/5/22, 15:41 - Aadarsh Agnihotri ME Dual KGP: @919131096437\\n4/5/22, 15:41 - Aadarsh Agnihotri ME Dual KGP: @918840884608\\n4/5/22, 15:41 - Deepak: .\\n4/7/22, 08:15 - Aadarsh Agnihotri ME Dual KGP: Isi pe bhejna bhai  confirm wale\\n4/7/22, 08:33 - Aadarsh Agnihotri ME Dual KGP: @918840884608   & team jinda ho 🌚🥺\\n4/7/22, 08:46 - Shivesh: https://cbom.atozmath.com/CBOM/Simplex.aspx?q=pd\\n4/7/22, 08:57 - Jithin Vinod: <Media omitted>\\n4/7/22, 08:57 - Jithin Vinod: 4a\\n4/7/22, 09:04 - Nitesh Kumar Meena: <Media omitted>\\n4/7/22, 09:13 - Nitesh Kumar Meena: <Media omitted>\\n4/7/22, 09:13 - Nitesh Kumar Meena: <Media omitted>\\n4/7/22, 09:13 - Nitesh Kumar Meena: <Media omitted>\\n4/7/22, 09:13 - Nitesh Kumar Meena: <Media omitted>\\n4/7/22, 09:14 - Nitesh Kumar Meena: <Media omitted>\\n4/7/22, 09:14 - Nitesh Kumar Meena: <Media omitted>\\n4/7/22, 09:14 - Nitesh Kumar Meena: <Media omitted>\\n4/7/22, 09:22 - Nitesh Kumar Meena: <Media omitted>\\n4/7/22, 09:22 - Nitesh Kumar Meena: <Media omitted>\\n4/7/22, 09:22 - Nitesh Kumar Meena: <Media omitted>\\n4/7/22, 09:22 - Nitesh Kumar Meena: <Media omitted>\\n4/7/22, 09:22 - Nitesh Kumar Meena: <Media omitted>\\n4/7/22, 09:22 - Nitesh Kumar Meena: <Media omitted>\\n4/7/22, 09:35 - Nitesh Kumar Meena: <Media omitted>\\n4/7/22, 09:35 - Nitesh Kumar Meena: <Media omitted>\\n4/7/22, 09:45 - Jithin Vinod: <Media omitted>\\n4/7/22, 09:45 - Jithin Vinod: <Media omitted>\\n4/7/22, 09:45 - Jithin Vinod: <Media omitted>\\n4/7/22, 09:45 - Jithin Vinod: <Media omitted>\\n4/7/22, 09:46 - Jithin Vinod: <Media omitted>\\n4/7/22, 09:46 - Jithin Vinod: <Media omitted>\\n4/7/22, 09:46 - Jithin Vinod: <Media omitted>\\n4/7/22, 09:46 - Jithin Vinod: 4th ka\\n4/7/22, 13:38 - Shivesh added Varun\\n4/7/22, 22:57 - Jatin 🏃: Bhhai subah utha dena 7 bje\\n4/7/22, 22:57 - Shivesh: Nahi uthayenge kya karloge\\n4/7/22, 22:57 - Shivesh: Chal bhag yahan se\\n4/7/22, 22:59 - Jatin 🏃 left\\n4/7/22, 23:01 - Akshat Jaiswal: <Media omitted>\\n4/7/22, 23:01 - Akshat Jaiswal: Bhga diya n bechare ko\\n4/7/22, 23:01 - Akshat Jaiswal: <Media omitted>\\n4/7/22, 23:01 - Akshat Jaiswal: Shivesh rendi\\n4/7/22, 23:02 - Shivesh added Jatin 🏃\\n4/7/22, 23:02 - Shivesh: @918307551824  bhai dil pe kun le raha\\n4/7/22, 23:02 - Shivesh: Lena hai to gaand pe le na\\n4/7/22, 23:11 - +91 94525 45818: ++\\n4/7/22, 23:45 - Jatin 🏃: Tu koon hai bsdk\\n4/7/22, 23:58 - Shivesh: @919452545818  ek bhen ka lauda, randi chinar hai.\\n4/8/22, 00:23 - Aadarsh Agnihotri ME Dual KGP: <Media omitted>\\n4/8/22, 00:33 - +91 94525 45818: 😜\\n4/8/22, 01:31 - Aadarsh Agnihotri ME Dual KGP: <Media omitted>\\n4/8/22, 08:05 - Jithin Vinod: <Media omitted>\\n4/8/22, 08:13 - Vidhu Vikas Singh: ++\\n4/8/22, 08:13 - Deepak: Initial presure diff h bas\\n4/8/22, 08:13 - Akshat Jaiswal: answer bhi bhj do\\n4/8/22, 08:14 - Deepak: 🥺🥺\\n4/8/22, 08:14 - Vidhu Vikas Singh: Pura answer chahiye\\n4/8/22, 08:19 - Shivesh added Rachit\\n4/8/22, 08:20 - lambu: <Media omitted>\\n4/8/22, 08:26 - Aadarsh Agnihotri ME Dual KGP: <Media omitted>\\n4/8/22, 08:26 - Aadarsh Agnihotri ME Dual KGP: Isse bhi same aa rha kya?!\\n4/8/22, 08:28 - lambu: Here CpdT\\n4/8/22, 08:45 - Deepak: <Media omitted>\\n4/8/22, 08:45 - Deepak: <Media omitted>\\n4/8/22, 08:45 - Deepak: <Media omitted>\\n4/8/22, 08:51 - Vidhu Vikas Singh: 1st question ka ye answer hai? 10.15 m/s?\\n4/8/22, 08:52 - Jatin 🏃: 407.679\\n4/8/22, 08:53 - Jatin 🏃: For 225kpa\\n4/8/22, 08:53 - Vidhu Vikas Singh: Toh full answer agar likha hai toh wo bhej de\\n4/8/22, 08:54 - Jatin 🏃: <Media omitted>\\n4/8/22, 08:54 - lambu: No\\n4/8/22, 08:54 - Jatin 🏃: <Media omitted>\\n4/8/22, 08:54 - lambu: .\\n4/8/22, 08:54 - lambu: Do this\\n4/8/22, 08:54 - Vidhu Vikas Singh: Okay\\n4/8/22, 09:09 - Vidhu Vikas Singh: 2nd answer likh liya ho toh bhej do\\n4/8/22, 09:25 - Vidhu Vikas Singh: .\\n4/8/22, 09:28 - Deepak: <Media omitted>\\n4/8/22, 09:28 - Deepak: <Media omitted>\\n4/8/22, 09:40 - Jatin 🏃: E part nshi hai\\nReminder\\n4/8/22, 09:47 - lambu: <Media omitted>\\n4/8/22, 09:50 - lambu: For 1000kpa,300k\\n4/8/22, 10:00 - Vidhu Vikas Singh: Aur koi answer hua hai?\\n4/8/22, 10:08 - Nitesh Kumar Meena: https://www.chegg.com/homework-help/questions-and-answers/consider-modification-air-standard-otto-cycle-isentropic-compression-expansion-processes-r-q8175673\\n4/8/22, 10:45 - Deepak: <Media omitted>\\n4/8/22, 10:45 - Aadarsh Agnihotri ME Dual KGP: <Media omitted>\\n4/8/22, 10:46 - Deepak: <Media omitted>\\n4/8/22, 10:46 - Deepak: <Media omitted>\\n4/8/22, 10:46 - Deepak: <Media omitted>\\n4/8/22, 10:46 - Deepak: <Media omitted>\\n4/8/22, 10:46 - Deepak: <Media omitted>\\n4/8/22, 10:46 - Deepak: <Media omitted>\\n4/8/22, 10:46 - Aadarsh Agnihotri ME Dual KGP: Bsdke bas pass ho jae 🙏\\n4/8/22, 10:47 - Deepak: <Media omitted>\\n4/8/22, 10:47 - Aadarsh Agnihotri ME Dual KGP: <Media omitted>\\n4/8/22, 10:47 - Deepak: <Media omitted>\\n4/8/22, 10:48 - Deepak: <Media omitted>\\n4/8/22, 10:48 - Deepak: This message was deleted\\n4/8/22, 10:48 - Deepak: <Media omitted>\\n4/8/22, 10:49 - Deepak: <Media omitted>\\n4/8/22, 10:49 - Deepak: <Media omitted>\\n4/8/22, 10:49 - Deepak: <Media omitted>\\n4/8/22, 10:49 - Deepak: <Media omitted>\\n4/8/22, 10:50 - Deepak: <Media omitted>\\n4/8/22, 10:50 - Deepak: <Media omitted>\\n4/8/22, 10:50 - Deepak: <Media omitted>\\n4/8/22, 10:50 - Deepak: <Media omitted>\\n4/8/22, 11:02 - Shivesh: <Media omitted>\\n4/8/22, 11:02 - Deepak: <Media omitted>\\n4/8/22, 11:02 - Deepak: <Media omitted>\\n4/8/22, 11:02 - Deepak: <Media omitted>\\n4/8/22, 11:02 - Deepak: <Media omitted>\\n4/8/22, 11:03 - Deepak: <Media omitted>\\n4/8/22, 11:03 - Deepak: Good bye!!!!\\n4/8/22, 11:03 - Deepak: Fir milege kisi paper m???\\n4/8/22, 11:03 - Deepak: Salamat rahe th!!!\\n4/8/22, 11:03 - Deepak: <Media omitted>\\n4/11/22, 09:58 - Aadarsh Agnihotri ME Dual KGP: This message was deleted\\n4/11/22, 09:58 - Shivesh: Ye wala ho gaya\\n4/11/22, 09:59 - Deepak: 12,13 bhejo\\n4/11/22, 10:04 - +91 94525 45818: <Media omitted>\\n4/11/22, 10:05 - Deepak: <Media omitted>\\n4/11/22, 10:07 - Shivesh: <Media omitted>\\n4/11/22, 10:07 - Shivesh: <Media omitted>\\n4/11/22, 10:08 - Deepak: <Media omitted>\\n4/11/22, 10:42 - +91 94525 45818: <Media omitted>\\n4/11/22, 11:35 - Shivesh: <Media omitted>\\n4/12/22, 11:25 - Deepak: Ans bhjeo\\n4/12/22, 11:25 - Deepak: Eco ke\\n4/12/22, 11:25 - Aadarsh Agnihotri ME Dual KGP: ++\\n4/13/22, 08:26 - Aadarsh Agnihotri ME Dual KGP: <Media omitted>\\n4/13/22, 08:32 - Deepak: Nav h kya\\n4/13/22, 08:33 - Lilesh: <Media omitted>\\n4/13/22, 08:33 - Lilesh: <Media omitted>\\n4/13/22, 08:33 - Lilesh: <Media omitted>\\n4/13/22, 08:33 - Lilesh: <Media omitted>\\n4/13/22, 08:33 - Lilesh: <Media omitted>\\n4/13/22, 08:33 - Lilesh: <Media omitted>\\n4/13/22, 08:33 - Lilesh: <Media omitted>\\n4/13/22, 08:33 - Lilesh: <Media omitted>\\n4/13/22, 08:33 - Lilesh: <Media omitted>\\n4/13/22, 08:33 - Lilesh: <Media omitted>\\n4/13/22, 08:33 - Lilesh: <Media omitted>\\n4/13/22, 08:33 - Aadarsh Agnihotri ME Dual KGP: <Media omitted>\\n4/13/22, 08:34 - Aadarsh Agnihotri ME Dual KGP: Confirm wale hi bhejna\\n4/13/22, 08:34 - Aadarsh Agnihotri ME Dual KGP: Iss group m\\n4/13/22, 08:35 - Lilesh: ok bhii\\n4/13/22, 08:36 - Rupesh Kataria: <Media omitted>\\n4/13/22, 08:39 - Rupesh Kataria: <Media omitted>\\n4/13/22, 08:40 - Aadarsh Agnihotri ME Dual KGP: https://www.chegg.com/homework-help/questions-and-answers/8-circuit-following-figure-b-120-vcc-5-v-va-100-v-rg-25-k-2-determine-vbb-rc-ra-54-k-2-q-p-q41813524\\n4/13/22, 08:40 - Shivesh: <Media omitted>\\n4/13/22, 08:41 - Aadarsh Agnihotri ME Dual KGP: <Media omitted>\\n4/13/22, 08:41 - Aadarsh Agnihotri ME Dual KGP: Yaha se forward mat karna bc\\n4/13/22, 08:42 - Aadarsh Agnihotri ME Dual KGP: <Media omitted>\\n4/13/22, 08:43 - Akshat Jaiswal: This message was deleted\\n4/13/22, 08:43 - Rupesh Kataria: <Media omitted>\\n4/13/22, 08:44 - Rupesh Kataria: <Media omitted>\\n4/13/22, 08:45 - Aadarsh Agnihotri ME Dual KGP: <Media omitted>\\n4/13/22, 08:46 - Rupesh Kataria: <Media omitted>\\n4/13/22, 08:48 - Aadarsh Agnihotri ME Dual KGP: <Media omitted>\\n4/13/22, 08:49 - Aadarsh Agnihotri ME Dual KGP: <Media omitted>\\n4/13/22, 08:49 - Shivesh: <Media omitted>\\n4/13/22, 08:51 - Aadarsh Agnihotri ME Dual KGP: <Media omitted>\\n4/13/22, 08:51 - Shivesh: <Media omitted>\\n4/13/22, 08:58 - Shivesh: <Media omitted>\\n4/13/22, 08:58 - Aadarsh Agnihotri ME Dual KGP: <Media omitted>\\n4/13/22, 09:00 - Akshat Jaiswal: <Media omitted>\\n4/13/22, 09:01 - Azhar Naseeh: <Media omitted>\\n4/13/22, 09:01 - Azhar Naseeh: <Media omitted>\\n4/13/22, 09:01 - Azhar Naseeh: <Media omitted>\\n4/13/22, 09:04 - Aadarsh Agnihotri ME Dual KGP: <Media omitted>\\n4/13/22, 09:07 - Aadarsh Agnihotri ME Dual KGP: <Media omitted>\\n4/13/22, 09:09 - Nitesh Kumar Meena: .\\n4/13/22, 09:14 - Aadarsh Agnihotri ME Dual KGP: <Media omitted>\\n4/13/22, 09:16 - Aadarsh Agnihotri ME Dual KGP: <Media omitted>\\n4/13/22, 09:16 - Rupesh Kataria: <Media omitted>\\n4/13/22, 09:19 - Aadarsh Agnihotri ME Dual KGP: <Media omitted>\\n4/13/22, 09:33 - Aadarsh Agnihotri ME Dual KGP: <Media omitted>\\n4/13/22, 09:40 - Aadarsh Agnihotri ME Dual KGP: <Media omitted>\\n8/27/22, 17:17 - Varun: https://forms.gle/Zv6Z6j1gHuD9Vzo48\\n8/27/22, 17:17 - Varun: Guys vote lambu\\n8/27/22, 17:17 - Varun: asap\\n8/27/22, 17:17 - Varun: And reply +1\\n8/27/22, 17:17 - Varun: +1\\n8/27/22, 17:24 - Varun: @917000482116 @919079923017 @918840884608 @917510996851 @917587236895 @917999577593 @918002486905 @918307551824 @919131096437 @919302096745 @919452545818 @919636584769 @919778113820 @919872919735\\n8/27/22, 17:36 - Rupesh Kataria: +1\\n8/27/22, 17:42 - Vidhu Vikas Singh: Can\\'t vote\\n8/27/22, 17:42 - Vidhu Vikas Singh: But +1 sure\\n8/27/22, 17:56 - Varun: If not votes yet...vote in both dual and open categories\\n8/27/22, 17:56 - Varun: *voted\\n8/27/22, 18:50 - Aadarsh Agnihotri ME Dual KGP: +1\\n8/30/22, 02:30 - Deepak: This message was deleted\\n9/1/22, 16:46 - Deepak: <Media omitted>\\n9/1/22, 16:46 - Deepak: <Media omitted>\\n9/1/22, 16:49 - Shivesh: 😱\\n9/1/22, 17:19 - Jatin 🏃 left\\n9/5/22, 22:15 - Jithin Vinod: https://mega.nz/folder/f9VhXB7C#QpYyd2K8i4aXlEBDRHwilA\\n9/5/22, 22:16 - Jithin Vinod: @918840884608 @917000482116\\n9/5/22, 22:23 - Akshat Jaiswal: <Media omitted>\\n9/5/22, 22:24 - Shivesh: Lund lena start kardo phir\\n9/5/22, 22:28 - Akshat Jaiswal: Aapka kaam ni krte hn\\n9/5/22, 22:28 - Akshat Jaiswal: Hm*\\n9/6/22, 07:58 - Varun: <Media omitted>\\n9/6/22, 13:13 - Nitesh Kumar Meena: Ye tune hi likha hai naa\\n9/6/22, 13:13 - Nitesh Kumar Meena: Saale\\n9/6/22, 13:14 - Varun: <Media omitted>\\n9/6/22, 17:24 - Deepak: @919636584769 congratulations💐💐💐\\n9/6/22, 17:26 - Deepak: Party kab de raha bsdk\\n9/7/22, 00:59 - Shivesh: https://youtube.com/playlist?list=PLbRMhDVUMngdCkMipemSKP_dCgZLLfOe8\\n9/7/22, 02:41 - Deepak: yo, everyone!\\n9/7/22, 02:41 - Deepak: yo, everyone!\\n9/7/22, 03:53 - Shivesh: <Media omitted>\\n9/7/22, 03:53 - Shivesh: <Media omitted>\\n9/7/22, 03:53 - Shivesh: <Media omitted>\\n9/7/22, 12:33 - Deepak: Bhejo bhau\\n9/7/22, 12:36 - Azhar Naseeh: +1\\n9/7/22, 12:47 - Shivesh: 1,2 and 1,3 \\n\\n\\nJis side name kikha hai uska 1 e\\n9/7/22, 12:47 - Shivesh: , 3\\n9/7/22, 12:47 - Jithin Vinod: <Media omitted>\\n9/7/22, 12:47 - Akshat Jaiswal: <Media omitted>\\n9/7/22, 12:47 - Shivesh: <Media omitted>\\n9/7/22, 12:47 - Shivesh: <Media omitted>\\n9/7/22, 12:47 - Shivesh: <Media omitted>\\n9/7/22, 12:47 - Shivesh: <Media omitted>\\n9/8/22, 12:56 - Shivesh: Mera geometry box kiske pass hai?\\n9/8/22, 12:57 - Shivesh: @917000482116 @917999577593 @919079923017 @919636584769\\n9/8/22, 12:59 - Aadarsh Agnihotri ME Dual KGP: Mere pas to nhi h bro 🥺\\n9/8/22, 14:23 - Akshat Jaiswal: @918840884608\\n9/8/22, 14:25 - Shivesh: <Media omitted>\\n9/8/22, 14:25 - Shivesh: <Media omitted>\\n9/8/22, 14:25 - Shivesh: <Media omitted>\\n9/8/22, 14:28 - Shivesh: <Media omitted>\\n9/8/22, 14:28 - Shivesh: <Media omitted>\\n9/8/22, 16:57 - Shivesh: <Media omitted>\\n9/9/22, 00:06 - Aadarsh Agnihotri ME Dual KGP: Hello guys\\n9/9/22, 00:06 - Aadarsh Agnihotri ME Dual KGP: Gaand maro ge\\n9/9/22, 00:06 - Aadarsh Agnihotri ME Dual KGP: @919131096437\\n9/9/22, 00:28 - Deepak: <Media omitted>\\n9/12/22, 16:19 - Deepak: <Media omitted>\\n9/12/22, 16:19 - Shivesh: <Media omitted>\\n9/12/22, 16:19 - Shivesh: <Media omitted>\\n9/12/22, 16:19 - Shivesh: <Media omitted>\\n9/16/22, 09:55 - Deepak: Send ans 🙏\\n9/16/22, 09:55 - Shivesh: Send nudes\\n9/16/22, 09:56 - Jithin Vinod: Teri baap ka bhej deta hu\\n9/16/22, 09:56 - Shivesh: <Media omitted>\\n9/16/22, 09:56 - Jithin Vinod: <Media omitted>\\n9/16/22, 09:57 - Deepak: <Media omitted>\\n10/10/22, 18:12 - Shivesh: <Media omitted>\\n10/10/22, 18:21 - Deepak: Hmmm😈\\n10/10/22, 18:25 - Aadarsh Agnihotri ME Dual KGP: <Media omitted>\\n10/10/22, 18:32 - +91 94525 45818: 🤣🤣\\n10/10/22, 20:48 - Nitesh Kumar Meena: <Media omitted>\\n10/10/22, 20:48 - Nitesh Kumar Meena: Koi iska answer bta do ?..\\n10/10/22, 20:49 - +91 94525 45818: bc chal kya rha hai\\n10/10/22, 20:50 - +91 94525 45818: abh abhi to class start hui and maine to dekka bhi nhi nalanda ka rasta 😅\\n10/10/22, 20:50 - Nitesh Kumar Meena: Teri nhi hui kya casting ki lab..\\n10/10/22, 20:50 - +91 94525 45818: Nhi bhai 🤣\\n10/10/22, 20:51 - Nitesh Kumar Meena: Toh apne kisi dost se maang le jiski ho gyi ho 😔\\n10/10/22, 20:52 - +91 94525 45818: Waise tum logo ke alawa kon mera dost hai\\n10/18/22, 16:37 - Jithin Vinod: <Media omitted>\\n10/18/22, 16:37 - Jithin Vinod: Iska lap report he kya\\n10/18/22, 17:25 - Shivesh: This message was deleted\\n10/18/22, 17:25 - Shivesh: <Media omitted>\\n10/18/22, 18:20 - +91 94525 45818: <Media omitted>\\n10/18/22, 18:23 - Aadarsh Agnihotri ME Dual KGP: <Media omitted>\\n11/4/22, 13:44 - Jithin Vinod: Videos of the incident:\\xa0\\nhttps://drive.google.com/file/d/1PSuHGUSh01ghnS4_EjXKmaVdv-82Ye6h/view?usp=sharing\\n\\nhttps://drive.google.com/file/d/1JaHlAO5B6oFJ1ySWaTtp2CKQ7g4lq_Vx/view?usp=sharing\\n11/4/22, 13:44 - Jithin Vinod: Respected sir,\\n\\n\\nI am very sorry to report this unfortunate incident that happened in front of the meteorology lab in the Department of Mechanical Engineering on 3rd November 2022 at around 6:30 pm.\\xa0\\n\\n\\nThe students were waiting outside the lab for the answer scripts of the Casting,\\xa0Forming, and Welding mid-semester examination to be shown. The range of roll numbers was announced by the Teaching Assistants after which the students\\xa0lying in that range went inside the lab to see their respective answer scripts. The students stood in groups of their friend circles and the pathway to the lab was blocked due to the excessive number of students.\\xa0\\n\\n\\nOne faculty member approached the door and asked the students to make way for him to enter the lab. He identified himself as Professor Ramanujan. In a second or two the students along with the T.A.s made way for him to pass without any hassle. He asked if professor Nilanjan Das Chakladar was present. One of the T.A.s informed the faculty that professor is not present at the moment. Ramanujan sir, asked the students to convey some information to professor Nilanjan and also asked if the students remember his name. Professor Ramanujan said, \"I just mentioned my name a few minutes earlier and no one memorized that.\" This somehow triggered him and a series of events followed after that:\\n\\n\\n1) Glorified Ragging?? He started glorifying ragging and his own experience about how he was ragged for 5 months. \"You are not able to do anything because you\\xa0are not even ragged for 5 minutes as compared to the 5 months of ragging I have experienced. After 1991, IITs lost their history, because ragging was banned \", were his actual words.\\n\\n\\n2) Gender Discrimination?? He started talking about the number of students present in our batch, along with the gender ratio. No one was answering him, because he shouted at the students to portray ragging. He approached T.A. to get the required gender ratio data. Gender ratio of 4.4 was informed to him. He commanded everyone to stand in a line and arranged the students according to this gender ratio. That is 1 girl after 4 boys. Some of the girls refused to obey him and they were shouted at accordingly. \"You cannot withstand a few people getting ahead of you for even 5 seconds\", were his actual words. One girl objected his actions and she was asked to shout her grievances loudly. He went away from her and asked her to shout louder so that he can hear her.\\n\\n\\n3) Harassment?? A boy interrupted the conversation between Professor Ramanujan and the girl. He asked professor Ramanujan to stop this activity because of the gender biasedness\\xa0involved. Professor repetitively said, \"If you guys allow me to defend myself, I will prove that I have done nothing wrong\". Some students mentioned that they are uncomfortable with him carrying out any further and asked him to leave.\\xa0\\n\\n\\n4) Authority- Slave mentality?? After a few minutes, he returned along with Professor Vamsi, and tried to justify his actions. He said, \"You are just a student. Me and Professor Vamsi are the authority that can command you to obey us and you have to. You have no rights. You, the students can only shout and it is up to us, the authority to listen to you. If you still have any problems and have the guts, mail to professor Vamsi with your name and roll number, and if Professor Vamsi asks me to apologize, I will. I will not entertain you.\"\\n\\n\\nThe video of the incident is attached to this mail. Words are not enough to describe the harassment faced by students today.\\n\\n\\nI sincerely request THE AUTHORITY to take action such that this misfortunate incident does not happen in the future. And I request the department, to offer counsel to students by trained professionals if required. Only together we can make IITs great as always. Not with ragging, not with opportunities based on Gender Bias, not with a Master-Slave mentality. I believe good cooperation, communication, and collaboration are important. Please help support this cause and irradicate\\xa0the required.\\n11/4/22, 13:44 - Jithin Vinod: Ye ky hua kal\\n11/4/22, 13:45 - Akshat Jaiswal: Ye\\n11/4/22, 13:45 - Akshat Jaiswal: Wo hi h\\n11/4/22, 13:45 - Akshat Jaiswal: Jo h\\n11/4/22, 13:45 - Jithin Vinod: Room me he kya tu lode\\n11/4/22, 13:45 - Akshat Jaiswal: Ni bhai\\n11/4/22, 13:45 - Jithin Vinod: Aake gand maarunga\\n11/4/22, 13:45 - Akshat Jaiswal: Hm kha room m rehte\\n11/4/22, 13:45 - Akshat Jaiswal: Oh\\n11/4/22, 13:45 - Akshat Jaiswal: Nhi bhai\\n11/4/22, 13:46 - Akshat Jaiswal: <Media omitted>\\n11/4/22, 13:46 - Jithin Vinod: <Media omitted>\\n11/4/22, 15:29 - Shivesh: <Media omitted>\\n11/5/22, 00:22 - Nitesh Kumar Meena: <Media omitted>\\n11/5/22, 00:23 - Akshat Jaiswal: Selfie Lena b\\n11/5/22, 00:23 - Akshat Jaiswal: Photo nhi\\n11/5/22, 00:23 - Akshat Jaiswal: <Media omitted>\\n11/5/22, 00:23 - Nitesh Kumar Meena: Zaroori hai kya?\\n11/5/22, 00:24 - Akshat Jaiswal: Maybe\\n11/5/22, 00:24 - Akshat Jaiswal: Likha to yha\\n11/5/22, 00:24 - Akshat Jaiswal: Selfie\\n11/5/22, 00:24 - Nitesh Kumar Meena: Peace maar na\\n11/5/22, 00:24 - Akshat Jaiswal: Mera frz h btana\\n11/5/22, 00:25 - Akshat Jaiswal: 🙂\\n11/5/22, 00:52 - Aadarsh Agnihotri ME Dual KGP: 😅\\n11/11/22, 08:00 - Nitesh Kumar Meena: <Media omitted>\\n11/11/22, 08:30 - Azhar Naseeh: <Media omitted>\\n11/11/22, 08:30 - Azhar Naseeh: 2nd wala\\n11/11/22, 08:45 - Nitesh Kumar Meena: Hi\\n11/11/22, 08:45 - Azhar Naseeh: Hi\\n11/11/22, 08:45 - Deepak: 20,1, 30, 90, 90,1,1.25\\n11/11/22, 08:45 - Deepak: 1-7\\n11/11/22, 08:45 - Deepak: Pressure angle 20 \\nModule 1.5 \\nZp 20 \\nZg 60 \\nDg 90 \\nAddendum 1.5 \\nDebendum 1.875\\nTooth thickness 2.356 \\nFace width 0.375\\n11/11/22, 08:46 - Deepak: 19 - 0.516\\n20 - 0.274\\n11/11/22, 08:46 - Deepak: Confirm nhi hai\\n11/11/22, 19:55 - Aadarsh Agnihotri ME Dual KGP: <Media omitted>\\n11/11/22, 19:55 - Aadarsh Agnihotri ME Dual KGP: <Media omitted>\\n11/11/22, 19:55 - Aadarsh Agnihotri ME Dual KGP: <Media omitted>\\n11/11/22, 19:55 - Aadarsh Agnihotri ME Dual KGP: <Media omitted>\\n11/11/22, 19:55 - Aadarsh Agnihotri ME Dual KGP: <Media omitted>\\n11/18/22, 03:06 - Aadarsh Agnihotri ME Dual KGP: <Media omitted>\\n11/19/22, 15:18 - Deepak: GD in MMM\\n11/19/22, 15:18 - Deepak: Everyone invited\\n11/19/22, 15:55 - Shivesh: <Media omitted>\\n11/19/22, 15:56 - Deepak: Coupon nahi h tho mangna mat\\n11/19/22, 16:04 - Shivesh: <Media omitted>\\n11/19/22, 16:04 - +91 94525 45818: Khana kaise milega phir to\\n11/19/22, 16:04 - Shivesh: <Media omitted>\\n11/19/22, 16:09 - Deepak: Chutiya h jane do\\n11/19/22, 16:13 - +91 94525 45818: Are bhai bta do na time waigra kuchh \\U0001f972\\n11/20/22, 04:19 - Shivesh: <Media omitted>\\n11/20/22, 09:59 - +91 94525 45818: Bhai fail h phir to 😍\\n11/21/22, 23:58 - Shivesh: <Media omitted>\\n11/21/22, 23:58 - Shivesh: <Media omitted>\\n11/22/22, 00:32 - Aadarsh Agnihotri ME Dual KGP: https://youtu.be/dSI3C59imQo\\n11/22/22, 02:18 - Aadarsh Agnihotri ME Dual KGP: https://youtu.be/bA6a7lkhOmk\\n11/22/22, 06:39 - Aadarsh Agnihotri ME Dual KGP: <Media omitted>\\n11/22/22, 06:39 - Aadarsh Agnihotri ME Dual KGP: <Media omitted>\\n11/22/22, 06:39 - Aadarsh Agnihotri ME Dual KGP: <Media omitted>\\n11/22/22, 06:39 - Aadarsh Agnihotri ME Dual KGP: <Media omitted>\\n11/22/22, 06:39 - Aadarsh Agnihotri ME Dual KGP: <Media omitted>\\n11/22/22, 06:39 - Aadarsh Agnihotri ME Dual KGP: <Media omitted>\\n11/22/22, 06:39 - Aadarsh Agnihotri ME Dual KGP: <Media omitted>\\n11/22/22, 06:39 - Aadarsh Agnihotri ME Dual KGP: <Media omitted>\\n11/22/22, 06:39 - Aadarsh Agnihotri ME Dual KGP: <Media omitted>\\n11/22/22, 06:39 - Aadarsh Agnihotri ME Dual KGP: <Media omitted>\\n11/22/22, 06:39 - Aadarsh Agnihotri ME Dual KGP: <Media omitted>\\n11/22/22, 06:39 - Aadarsh Agnihotri ME Dual KGP: <Media omitted>\\n11/22/22, 06:39 - Aadarsh Agnihotri ME Dual KGP: <Media omitted>\\n11/22/22, 10:38 - Deepak: Adarsh cam ka graphical video bhej\\n11/22/22, 10:43 - Aadarsh Agnihotri ME Dual KGP: https://youtube.com/@vipulgoti47\\n11/23/22, 16:18 - +91 94525 45818: <Media omitted>\\n11/24/22, 02:31 - Akshat Jaiswal: https://archive.nptel.ac.in/courses/112/105/112105125/\\n11/24/22, 02:47 - Akshat Jaiswal: <Media omitted>\\n11/24/22, 03:06 - Aadarsh Agnihotri ME Dual KGP: <Media omitted>\\n11/24/22, 03:06 - Aadarsh Agnihotri ME Dual KGP: <Media omitted>\\n11/24/22, 03:06 - Shivesh: <Media omitted>\\n11/24/22, 03:06 - Shivesh: <Media omitted>\\n11/24/22, 03:32 - Aadarsh Agnihotri ME Dual KGP: <Media omitted>\\n11/24/22, 05:15 - Nitesh Kumar Meena: <Media omitted>\\n11/24/22, 07:55 - Aadarsh Agnihotri ME Dual KGP: Ye pdf bhej\\n11/24/22, 07:55 - Aadarsh Agnihotri ME Dual KGP: Lavde\\n11/24/22, 07:55 - Aadarsh Agnihotri ME Dual KGP: Jldi\\n12/7/22, 09:18 - +91 94525 45818: Happy Birthday 🥳🎇🎈@917999577593\\n12/7/22, 09:18 - +91 94525 45818: 🥳🥳🥳🥳\\n12/7/22, 09:20 - Deepak: Happy Bday @917999577593 🎉🎉🎉🎉\\n12/7/22, 09:23 - +91 94525 45818: Tumse birthday bhi poora nhi likha Jaa rha hmm bsdk\\n12/7/22, 09:23 - Deepak: <Media omitted>\\n12/7/22, 09:23 - Deepak: <Media omitted>\\n12/7/22, 14:26 - Aadarsh Agnihotri ME Dual KGP: Haha thnxss dosto  ❤️\\n12/7/22, 21:18 - Shivesh: <Media omitted>\\n12/7/22, 21:18 - Shivesh: @917999577593\\n12/7/22, 21:18 - Deepak: Shivesh ko dukh\\n12/7/22, 21:19 - Akshat Jaiswal: +++\\n12/7/22, 21:19 - Aadarsh Agnihotri ME Dual KGP: 😂😂\\n12/7/22, 21:19 - Deepak: <Media omitted>\\n12/7/22, 21:20 - Rupesh Kataria: Kafi dukh hota h jab aapki bandi  kisi aur ko chhati ho\\n12/7/22, 21:21 - Deepak: Hae hae Rupaaa😆\\n12/7/22, 21:22 - +91 94525 45818: Ye aapse behtar kon jannega Babu Rao 😂\\n12/7/22, 21:22 - Rupesh Kataria: Bhai Shivesh ke liye reaction de mere koi bandi nahi h\\n12/7/22, 21:22 - Aadarsh Agnihotri ME Dual KGP: ++ 😂\\n12/7/22, 21:23 - Shivesh: Dekh rahe ho loogo ko sharam to thodi si bhi nahi hai\\n12/7/22, 21:24 - Deepak: <Media omitted>\\n12/7/22, 21:24 - Deepak: Hai sharam 😎\\n12/7/22, 21:24 - +91 94525 45818: Waise agni sounded cute i think she likes him 😂\\n12/7/22, 21:24 - +91 94525 45818: @918840884608\\n12/7/22, 21:25 - Shivesh: Bhai aadarsh ki fan following bahut hai\\n12/7/22, 21:25 - Aadarsh Agnihotri ME Dual KGP: 😂😂bsdwalo\\n12/7/22, 21:25 - Shivesh: Ek din ek bandi mere dm pe boli thi ki aadarsh pe to bahut ladkiyan fida hain\\n12/7/22, 21:25 - Deepak: Kya tho point out kiya h\\n12/7/22, 21:25 - +91 94525 45818: Hmm ye to hai ab @919131096437 @918840884608 @917999577593  dekh lo jeeju kisko kahu mai 😂\\n12/7/22, 21:25 - Deepak: 🙌\\n12/7/22, 21:25 - Aadarsh Agnihotri ME Dual KGP: Haha 😂 isse bada jhuth mene nhi suna\\n12/7/22, 21:25 - Aadarsh Agnihotri ME Dual KGP: 😂\\n12/7/22, 21:25 - Shivesh: <Media omitted>\\n12/7/22, 21:25 - Shivesh: Ye dekh\\n12/7/22, 21:26 - Deepak: <Media omitted>\\n12/7/22, 21:26 - Aadarsh Agnihotri ME Dual KGP: <Media omitted>\\n12/7/22, 21:26 - Shivesh: Bhai aadarsh tips\\n12/7/22, 21:26 - Shivesh: De de\\n12/7/22, 21:26 - +91 94525 45818: It\\'s mean @917999577593 is now my jeeju😂\\n12/7/22, 21:26 - Aadarsh Agnihotri ME Dual KGP: Haha 😂\\n12/7/22, 21:27 - Shivesh: Haan bhen ke laude\\n12/7/22, 21:27 - Deepak: <Media omitted>\\n12/7/22, 21:27 - Aadarsh Agnihotri ME Dual KGP: Padne do bsdwalo\\n12/7/22, 21:27 - Aadarsh Agnihotri ME Dual KGP: <Media omitted>\\n12/7/22, 21:27 - Aadarsh Agnihotri ME Dual KGP: <Media omitted>\\n12/7/22, 21:27 - Deepak: Ye setup\\n12/7/22, 21:27 - Aadarsh Agnihotri ME Dual KGP: <Media omitted>\\n12/7/22, 21:27 - Deepak: Is pe bhi fida ho jaegi\\n12/7/22, 21:27 - Aadarsh Agnihotri ME Dual KGP: 😂😂😂😂\\n12/7/22, 21:28 - +91 94525 45818: Mai daal deta hoon ye status\\n12/7/22, 21:28 - +91 94525 45818: Aadarsh ko tag krke\\n12/7/22, 21:28 - +91 94525 45818: 😂\\n12/7/22, 21:28 - Aadarsh Agnihotri ME Dual KGP: Kya??\\n12/7/22, 21:28 - Aadarsh Agnihotri ME Dual KGP: <Media omitted>\\n12/7/22, 21:28 - Deepak: <Media omitted>\\n12/7/22, 21:28 - Aadarsh Agnihotri ME Dual KGP: <Media omitted>\\n12/7/22, 21:29 - Aadarsh Agnihotri ME Dual KGP: <Media omitted>\\n12/7/22, 21:51 - Shivesh: Ye mea keyboard kab churaya betichod\\n12/7/22, 21:52 - Shivesh: Agni the fire\\n12/7/22, 21:53 - Shivesh: Ladkiyon mein aag lagane wala\\nSingle laundo ko jalane wala\\n\\n-Agni 🔥\\n12/7/22, 22:01 - Aadarsh Agnihotri ME Dual KGP: 😂😂😂aree bencho rhyming dekh rho ho\\n12/8/22, 09:09 - Jithin Vinod: ++\\n12/8/22, 09:13 - Deepak: Ye tho sab jante h\\n12/8/22, 09:19 - Rupesh Kataria: Sad for Shivesh and happy for Aadarsh\\n12/8/22, 09:19 - Aadarsh Agnihotri ME Dual KGP: Aree bencho\\n12/8/22, 09:19 - Jithin Vinod: Apne aap ke liye kabhi happy hona h na Rupa\\n12/8/22, 09:19 - Aadarsh Agnihotri ME Dual KGP: M to usse bat bhi nhi karta 😂\\n12/8/22, 09:20 - Aadarsh Agnihotri ME Dual KGP: Rupa sale 🙂\\n12/8/22, 09:22 - Rupesh Kataria: You deleted this message\\n12/8/22, 09:51 - Aadarsh Agnihotri ME Dual KGP: <Media omitted>\\n12/8/22, 09:51 - Aadarsh Agnihotri ME Dual KGP: Abe rupa delete kyo kia\\n12/8/22, 09:52 - Aadarsh Agnihotri ME Dual KGP: Dosto ko msg bhej ke dlt nhi karte rupa\\n12/8/22, 09:52 - Aadarsh Agnihotri ME Dual KGP: <Media omitted>\\n12/8/22, 09:52 - Deepak: Dekh lo guys rupa ka secret\\n12/8/22, 09:53 - Aadarsh Agnihotri ME Dual KGP: <Media omitted>\\n12/8/22, 09:53 - Aadarsh Agnihotri ME Dual KGP: <Media omitted>\\n12/8/22, 09:55 - Shivesh: Rupa ka nahi ye to aadarsh ka secret\\n12/8/22, 09:55 - Shivesh: Hai\\n12/8/22, 09:55 - Deepak: <Media omitted>\\n12/8/22, 10:00 - Rupesh Kataria: Mai toh ye bol raha tha Aadarsh ki aag dono taraf se lagi hui h aise koi Aadarsh ko agni nhi bolta usne Shivesh ko toh kabhi  shivi nahi bola\\n12/8/22, 10:01 - Deepak: Apko nahi pata\\n12/8/22, 10:02 - Deepak: Usne shivesh ko kya kya bola h 🙃\\n12/8/22, 10:04 - Shivesh: Aapko to bahut pata hai\\n12/8/22, 10:04 - Rupesh Kataria: Shivesh kuch batata nahi  har din bolta h bhai ladki dilade bhai  jaise ki m koi ladkiyo ka business karta hu\\n12/8/22, 10:05 - Deepak: 🤣🤣\\n12/8/22, 10:05 - Deepak: <Media omitted>\\n12/8/22, 10:05 - Shivesh: To karle na business\\n12/8/22, 10:05 - Shivesh: Bahut fayada hai\\n12/8/22, 10:05 - Rupesh Kataria: Koi idea nahi isse business ka muje\\n12/8/22, 10:17 - Shivesh: @917000482116 se puch\\n12/8/22, 10:27 - Rupesh Kataria: @917000482116 do you want to say something on this.\\n12/8/22, 11:46 - Akshat Jaiswal: Achcha shivesh se puch\\n12/8/22, 20:54 - Shivesh: <Media omitted>\\n12/12/22, 18:58 - Rupesh Kataria: <Media omitted>\\n12/12/22, 19:07 - Shivesh: Jalwa hai\\n12/12/22, 19:07 - Shivesh: Agnee ka\\n12/12/22, 19:07 - Shivesh: .\\n'"
            ]
          },
          "execution_count": 47,
          "metadata": {},
          "output_type": "execute_result"
        }
      ],
      "source": [
        "#print(data)\n",
        "data"
      ]
    },
    {
      "cell_type": "code",
      "execution_count": null,
      "metadata": {
        "colab": {
          "base_uri": "https://localhost:8080/"
        },
        "id": "P-fB-vO8bNsN",
        "outputId": "f88dd7ec-86b9-4763-9357-8c4545720930"
      },
      "outputs": [
        {
          "name": "stdout",
          "output_type": "stream",
          "text": [
            "<class 'str'>\n"
          ]
        }
      ],
      "source": [
        "#whatsapp chat store in the variable in the form of a string\n",
        "print(type(data))"
      ]
    },
    {
      "cell_type": "code",
      "execution_count": null,
      "metadata": {
        "id": "Adm0S-BjbdMx"
      },
      "outputs": [],
      "source": [
        "pattern ='\\d{1,2}/\\d{1,2}/\\d{2,4},\\s\\d{1,2}:\\d{1,2}\\s-\\s'"
      ]
    },
    {
      "cell_type": "code",
      "execution_count": null,
      "metadata": {
        "colab": {
          "base_uri": "https://localhost:8080/"
        },
        "id": "mWmXiNKQcP1P",
        "outputId": "7a724fdd-998a-4ba8-eed2-4fc58faf4d91"
      },
      "outputs": [
        {
          "data": {
            "text/plain": [
              "668"
            ]
          },
          "execution_count": 50,
          "metadata": {},
          "output_type": "execute_result"
        }
      ],
      "source": [
        "#we create list\n",
        "messages=re.split(pattern,data)[1:]\n",
        "len(messages)"
      ]
    },
    {
      "cell_type": "code",
      "execution_count": null,
      "metadata": {
        "colab": {
          "base_uri": "https://localhost:8080/"
        },
        "id": "iyZeXAIQcpSA",
        "outputId": "e18eed37-9029-45c1-959e-ba0824433805"
      },
      "outputs": [
        {
          "data": {
            "text/plain": [
              "['Messages and calls are end-to-end encrypted. No one outside of this chat, not even WhatsApp, can read or listen to them. Tap to learn more.\\n',\n",
              " 'Shivesh created group \"MS Mech\"\\n',\n",
              " 'Shivesh added you\\n',\n",
              " 'Shivesh: <Media omitted>\\n',\n",
              " 'Jithin Vinod: <Media omitted>\\n']"
            ]
          },
          "execution_count": 51,
          "metadata": {},
          "output_type": "execute_result"
        }
      ],
      "source": [
        "messages[0:5]"
      ]
    },
    {
      "cell_type": "code",
      "execution_count": null,
      "metadata": {
        "colab": {
          "base_uri": "https://localhost:8080/"
        },
        "id": "a1K87S3idbMX",
        "outputId": "0660132e-2143-4db5-c78d-82779d5ad6e6"
      },
      "outputs": [
        {
          "data": {
            "text/plain": [
              "['2/25/22, 09:41 - ',\n",
              " '2/25/22, 09:41 - ',\n",
              " '2/25/22, 09:41 - ',\n",
              " '2/25/22, 09:41 - ',\n",
              " '2/25/22, 09:43 - ']"
            ]
          },
          "execution_count": 52,
          "metadata": {},
          "output_type": "execute_result"
        }
      ],
      "source": [
        "#to extract date\n",
        "dates =re.findall(pattern,data)\n",
        "dates[0:5]"
      ]
    },
    {
      "cell_type": "code",
      "execution_count": null,
      "metadata": {
        "colab": {
          "base_uri": "https://localhost:8080/",
          "height": 206
        },
        "id": "-30VkO5jdw0a",
        "outputId": "3d90a419-f63a-4865-9555-bede9fa86a10"
      },
      "outputs": [
        {
          "data": {
            "text/html": [
              "\n",
              "  <div id=\"df-5ca10a87-2449-4da5-ad89-739457184729\">\n",
              "    <div class=\"colab-df-container\">\n",
              "      <div>\n",
              "<style scoped>\n",
              "    .dataframe tbody tr th:only-of-type {\n",
              "        vertical-align: middle;\n",
              "    }\n",
              "\n",
              "    .dataframe tbody tr th {\n",
              "        vertical-align: top;\n",
              "    }\n",
              "\n",
              "    .dataframe thead th {\n",
              "        text-align: right;\n",
              "    }\n",
              "</style>\n",
              "<table border=\"1\" class=\"dataframe\">\n",
              "  <thead>\n",
              "    <tr style=\"text-align: right;\">\n",
              "      <th></th>\n",
              "      <th>user_message</th>\n",
              "      <th>date</th>\n",
              "    </tr>\n",
              "  </thead>\n",
              "  <tbody>\n",
              "    <tr>\n",
              "      <th>0</th>\n",
              "      <td>Messages and calls are end-to-end encrypted. N...</td>\n",
              "      <td>2022-02-25 09:41:00</td>\n",
              "    </tr>\n",
              "    <tr>\n",
              "      <th>1</th>\n",
              "      <td>Shivesh created group \"MS Mech\"\\n</td>\n",
              "      <td>2022-02-25 09:41:00</td>\n",
              "    </tr>\n",
              "    <tr>\n",
              "      <th>2</th>\n",
              "      <td>Shivesh added you\\n</td>\n",
              "      <td>2022-02-25 09:41:00</td>\n",
              "    </tr>\n",
              "    <tr>\n",
              "      <th>3</th>\n",
              "      <td>Shivesh: &lt;Media omitted&gt;\\n</td>\n",
              "      <td>2022-02-25 09:41:00</td>\n",
              "    </tr>\n",
              "    <tr>\n",
              "      <th>4</th>\n",
              "      <td>Jithin Vinod: &lt;Media omitted&gt;\\n</td>\n",
              "      <td>2022-02-25 09:43:00</td>\n",
              "    </tr>\n",
              "  </tbody>\n",
              "</table>\n",
              "</div>\n",
              "      <button class=\"colab-df-convert\" onclick=\"convertToInteractive('df-5ca10a87-2449-4da5-ad89-739457184729')\"\n",
              "              title=\"Convert this dataframe to an interactive table.\"\n",
              "              style=\"display:none;\">\n",
              "        \n",
              "  <svg xmlns=\"http://www.w3.org/2000/svg\" height=\"24px\"viewBox=\"0 0 24 24\"\n",
              "       width=\"24px\">\n",
              "    <path d=\"M0 0h24v24H0V0z\" fill=\"none\"/>\n",
              "    <path d=\"M18.56 5.44l.94 2.06.94-2.06 2.06-.94-2.06-.94-.94-2.06-.94 2.06-2.06.94zm-11 1L8.5 8.5l.94-2.06 2.06-.94-2.06-.94L8.5 2.5l-.94 2.06-2.06.94zm10 10l.94 2.06.94-2.06 2.06-.94-2.06-.94-.94-2.06-.94 2.06-2.06.94z\"/><path d=\"M17.41 7.96l-1.37-1.37c-.4-.4-.92-.59-1.43-.59-.52 0-1.04.2-1.43.59L10.3 9.45l-7.72 7.72c-.78.78-.78 2.05 0 2.83L4 21.41c.39.39.9.59 1.41.59.51 0 1.02-.2 1.41-.59l7.78-7.78 2.81-2.81c.8-.78.8-2.07 0-2.86zM5.41 20L4 18.59l7.72-7.72 1.47 1.35L5.41 20z\"/>\n",
              "  </svg>\n",
              "      </button>\n",
              "      \n",
              "  <style>\n",
              "    .colab-df-container {\n",
              "      display:flex;\n",
              "      flex-wrap:wrap;\n",
              "      gap: 12px;\n",
              "    }\n",
              "\n",
              "    .colab-df-convert {\n",
              "      background-color: #E8F0FE;\n",
              "      border: none;\n",
              "      border-radius: 50%;\n",
              "      cursor: pointer;\n",
              "      display: none;\n",
              "      fill: #1967D2;\n",
              "      height: 32px;\n",
              "      padding: 0 0 0 0;\n",
              "      width: 32px;\n",
              "    }\n",
              "\n",
              "    .colab-df-convert:hover {\n",
              "      background-color: #E2EBFA;\n",
              "      box-shadow: 0px 1px 2px rgba(60, 64, 67, 0.3), 0px 1px 3px 1px rgba(60, 64, 67, 0.15);\n",
              "      fill: #174EA6;\n",
              "    }\n",
              "\n",
              "    [theme=dark] .colab-df-convert {\n",
              "      background-color: #3B4455;\n",
              "      fill: #D2E3FC;\n",
              "    }\n",
              "\n",
              "    [theme=dark] .colab-df-convert:hover {\n",
              "      background-color: #434B5C;\n",
              "      box-shadow: 0px 1px 3px 1px rgba(0, 0, 0, 0.15);\n",
              "      filter: drop-shadow(0px 1px 2px rgba(0, 0, 0, 0.3));\n",
              "      fill: #FFFFFF;\n",
              "    }\n",
              "  </style>\n",
              "\n",
              "      <script>\n",
              "        const buttonEl =\n",
              "          document.querySelector('#df-5ca10a87-2449-4da5-ad89-739457184729 button.colab-df-convert');\n",
              "        buttonEl.style.display =\n",
              "          google.colab.kernel.accessAllowed ? 'block' : 'none';\n",
              "\n",
              "        async function convertToInteractive(key) {\n",
              "          const element = document.querySelector('#df-5ca10a87-2449-4da5-ad89-739457184729');\n",
              "          const dataTable =\n",
              "            await google.colab.kernel.invokeFunction('convertToInteractive',\n",
              "                                                     [key], {});\n",
              "          if (!dataTable) return;\n",
              "\n",
              "          const docLinkHtml = 'Like what you see? Visit the ' +\n",
              "            '<a target=\"_blank\" href=https://colab.research.google.com/notebooks/data_table.ipynb>data table notebook</a>'\n",
              "            + ' to learn more about interactive tables.';\n",
              "          element.innerHTML = '';\n",
              "          dataTable['output_type'] = 'display_data';\n",
              "          await google.colab.output.renderOutput(dataTable, element);\n",
              "          const docLink = document.createElement('div');\n",
              "          docLink.innerHTML = docLinkHtml;\n",
              "          element.appendChild(docLink);\n",
              "        }\n",
              "      </script>\n",
              "    </div>\n",
              "  </div>\n",
              "  "
            ],
            "text/plain": [
              "                                        user_message                date\n",
              "0  Messages and calls are end-to-end encrypted. N... 2022-02-25 09:41:00\n",
              "1                  Shivesh created group \"MS Mech\"\\n 2022-02-25 09:41:00\n",
              "2                                Shivesh added you\\n 2022-02-25 09:41:00\n",
              "3                         Shivesh: <Media omitted>\\n 2022-02-25 09:41:00\n",
              "4                    Jithin Vinod: <Media omitted>\\n 2022-02-25 09:43:00"
            ]
          },
          "execution_count": 53,
          "metadata": {},
          "output_type": "execute_result"
        }
      ],
      "source": [
        "df=pd.DataFrame({'user_message':messages,'message_date':dates})\n",
        "#convert message_date type\n",
        "df['message_date']=pd.to_datetime(df['message_date'], format='%m/%d/%y, %H:%M - ')\n",
        "df.rename(columns={'message_date':'date'},inplace=True)\n",
        "df.head()"
      ]
    },
    {
      "cell_type": "code",
      "execution_count": null,
      "metadata": {
        "colab": {
          "base_uri": "https://localhost:8080/"
        },
        "id": "XI-rctRjmoLs",
        "outputId": "7c1e0cf8-ad9b-4c3c-bdb0-49cee0f1ed5f"
      },
      "outputs": [
        {
          "data": {
            "text/plain": [
              "(668, 2)"
            ]
          },
          "execution_count": 54,
          "metadata": {},
          "output_type": "execute_result"
        }
      ],
      "source": [
        "df.shape"
      ]
    },
    {
      "cell_type": "code",
      "execution_count": null,
      "metadata": {
        "id": "Nt_tr4RTmyik"
      },
      "outputs": [],
      "source": [
        "# separate user and message\n",
        "users =[]\n",
        "messages=[]\n",
        "for message in df['user_message']:\n",
        "  entry=re.split('([\\w\\W]+?):\\s',message)\n",
        "  if entry[1:]: #user name\n",
        "    users.append(entry[1])\n",
        "    messages.append(entry[2])\n",
        "  else:\n",
        "    users.append('group_notification')\n",
        "    messages.append(entry[0])\n",
        "df['user']=users\n",
        "df['message']=messages\n",
        "df.drop(columns=['user_message'],inplace=True)"
      ]
    },
    {
      "cell_type": "code",
      "execution_count": null,
      "metadata": {
        "colab": {
          "base_uri": "https://localhost:8080/",
          "height": 206
        },
        "id": "R6yyg4BUuX54",
        "outputId": "b66cfc3c-b93f-47d9-c108-0ca34122bd5f"
      },
      "outputs": [
        {
          "data": {
            "text/html": [
              "\n",
              "  <div id=\"df-6be568e7-6118-4e45-8412-073ec3ed6481\">\n",
              "    <div class=\"colab-df-container\">\n",
              "      <div>\n",
              "<style scoped>\n",
              "    .dataframe tbody tr th:only-of-type {\n",
              "        vertical-align: middle;\n",
              "    }\n",
              "\n",
              "    .dataframe tbody tr th {\n",
              "        vertical-align: top;\n",
              "    }\n",
              "\n",
              "    .dataframe thead th {\n",
              "        text-align: right;\n",
              "    }\n",
              "</style>\n",
              "<table border=\"1\" class=\"dataframe\">\n",
              "  <thead>\n",
              "    <tr style=\"text-align: right;\">\n",
              "      <th></th>\n",
              "      <th>date</th>\n",
              "      <th>user</th>\n",
              "      <th>message</th>\n",
              "    </tr>\n",
              "  </thead>\n",
              "  <tbody>\n",
              "    <tr>\n",
              "      <th>0</th>\n",
              "      <td>2022-02-25 09:41:00</td>\n",
              "      <td>group_notification</td>\n",
              "      <td>Messages and calls are end-to-end encrypted. N...</td>\n",
              "    </tr>\n",
              "    <tr>\n",
              "      <th>1</th>\n",
              "      <td>2022-02-25 09:41:00</td>\n",
              "      <td>group_notification</td>\n",
              "      <td>Shivesh created group \"MS Mech\"\\n</td>\n",
              "    </tr>\n",
              "    <tr>\n",
              "      <th>2</th>\n",
              "      <td>2022-02-25 09:41:00</td>\n",
              "      <td>group_notification</td>\n",
              "      <td>Shivesh added you\\n</td>\n",
              "    </tr>\n",
              "    <tr>\n",
              "      <th>3</th>\n",
              "      <td>2022-02-25 09:41:00</td>\n",
              "      <td>Shivesh</td>\n",
              "      <td>&lt;Media omitted&gt;\\n</td>\n",
              "    </tr>\n",
              "    <tr>\n",
              "      <th>4</th>\n",
              "      <td>2022-02-25 09:43:00</td>\n",
              "      <td>Jithin Vinod</td>\n",
              "      <td>&lt;Media omitted&gt;\\n</td>\n",
              "    </tr>\n",
              "  </tbody>\n",
              "</table>\n",
              "</div>\n",
              "      <button class=\"colab-df-convert\" onclick=\"convertToInteractive('df-6be568e7-6118-4e45-8412-073ec3ed6481')\"\n",
              "              title=\"Convert this dataframe to an interactive table.\"\n",
              "              style=\"display:none;\">\n",
              "        \n",
              "  <svg xmlns=\"http://www.w3.org/2000/svg\" height=\"24px\"viewBox=\"0 0 24 24\"\n",
              "       width=\"24px\">\n",
              "    <path d=\"M0 0h24v24H0V0z\" fill=\"none\"/>\n",
              "    <path d=\"M18.56 5.44l.94 2.06.94-2.06 2.06-.94-2.06-.94-.94-2.06-.94 2.06-2.06.94zm-11 1L8.5 8.5l.94-2.06 2.06-.94-2.06-.94L8.5 2.5l-.94 2.06-2.06.94zm10 10l.94 2.06.94-2.06 2.06-.94-2.06-.94-.94-2.06-.94 2.06-2.06.94z\"/><path d=\"M17.41 7.96l-1.37-1.37c-.4-.4-.92-.59-1.43-.59-.52 0-1.04.2-1.43.59L10.3 9.45l-7.72 7.72c-.78.78-.78 2.05 0 2.83L4 21.41c.39.39.9.59 1.41.59.51 0 1.02-.2 1.41-.59l7.78-7.78 2.81-2.81c.8-.78.8-2.07 0-2.86zM5.41 20L4 18.59l7.72-7.72 1.47 1.35L5.41 20z\"/>\n",
              "  </svg>\n",
              "      </button>\n",
              "      \n",
              "  <style>\n",
              "    .colab-df-container {\n",
              "      display:flex;\n",
              "      flex-wrap:wrap;\n",
              "      gap: 12px;\n",
              "    }\n",
              "\n",
              "    .colab-df-convert {\n",
              "      background-color: #E8F0FE;\n",
              "      border: none;\n",
              "      border-radius: 50%;\n",
              "      cursor: pointer;\n",
              "      display: none;\n",
              "      fill: #1967D2;\n",
              "      height: 32px;\n",
              "      padding: 0 0 0 0;\n",
              "      width: 32px;\n",
              "    }\n",
              "\n",
              "    .colab-df-convert:hover {\n",
              "      background-color: #E2EBFA;\n",
              "      box-shadow: 0px 1px 2px rgba(60, 64, 67, 0.3), 0px 1px 3px 1px rgba(60, 64, 67, 0.15);\n",
              "      fill: #174EA6;\n",
              "    }\n",
              "\n",
              "    [theme=dark] .colab-df-convert {\n",
              "      background-color: #3B4455;\n",
              "      fill: #D2E3FC;\n",
              "    }\n",
              "\n",
              "    [theme=dark] .colab-df-convert:hover {\n",
              "      background-color: #434B5C;\n",
              "      box-shadow: 0px 1px 3px 1px rgba(0, 0, 0, 0.15);\n",
              "      filter: drop-shadow(0px 1px 2px rgba(0, 0, 0, 0.3));\n",
              "      fill: #FFFFFF;\n",
              "    }\n",
              "  </style>\n",
              "\n",
              "      <script>\n",
              "        const buttonEl =\n",
              "          document.querySelector('#df-6be568e7-6118-4e45-8412-073ec3ed6481 button.colab-df-convert');\n",
              "        buttonEl.style.display =\n",
              "          google.colab.kernel.accessAllowed ? 'block' : 'none';\n",
              "\n",
              "        async function convertToInteractive(key) {\n",
              "          const element = document.querySelector('#df-6be568e7-6118-4e45-8412-073ec3ed6481');\n",
              "          const dataTable =\n",
              "            await google.colab.kernel.invokeFunction('convertToInteractive',\n",
              "                                                     [key], {});\n",
              "          if (!dataTable) return;\n",
              "\n",
              "          const docLinkHtml = 'Like what you see? Visit the ' +\n",
              "            '<a target=\"_blank\" href=https://colab.research.google.com/notebooks/data_table.ipynb>data table notebook</a>'\n",
              "            + ' to learn more about interactive tables.';\n",
              "          element.innerHTML = '';\n",
              "          dataTable['output_type'] = 'display_data';\n",
              "          await google.colab.output.renderOutput(dataTable, element);\n",
              "          const docLink = document.createElement('div');\n",
              "          docLink.innerHTML = docLinkHtml;\n",
              "          element.appendChild(docLink);\n",
              "        }\n",
              "      </script>\n",
              "    </div>\n",
              "  </div>\n",
              "  "
            ],
            "text/plain": [
              "                 date                user  \\\n",
              "0 2022-02-25 09:41:00  group_notification   \n",
              "1 2022-02-25 09:41:00  group_notification   \n",
              "2 2022-02-25 09:41:00  group_notification   \n",
              "3 2022-02-25 09:41:00             Shivesh   \n",
              "4 2022-02-25 09:43:00        Jithin Vinod   \n",
              "\n",
              "                                             message  \n",
              "0  Messages and calls are end-to-end encrypted. N...  \n",
              "1                  Shivesh created group \"MS Mech\"\\n  \n",
              "2                                Shivesh added you\\n  \n",
              "3                                  <Media omitted>\\n  \n",
              "4                                  <Media omitted>\\n  "
            ]
          },
          "execution_count": 56,
          "metadata": {},
          "output_type": "execute_result"
        }
      ],
      "source": [
        "df.head()"
      ]
    },
    {
      "cell_type": "code",
      "execution_count": null,
      "metadata": {
        "colab": {
          "base_uri": "https://localhost:8080/",
          "height": 206
        },
        "id": "oBmAdnoXuawJ",
        "outputId": "b8f7522b-a95c-46f4-c9be-03a702e4a7f3"
      },
      "outputs": [
        {
          "data": {
            "text/html": [
              "\n",
              "  <div id=\"df-0227e785-06fd-4ca6-90c0-026f0e84aa7c\">\n",
              "    <div class=\"colab-df-container\">\n",
              "      <div>\n",
              "<style scoped>\n",
              "    .dataframe tbody tr th:only-of-type {\n",
              "        vertical-align: middle;\n",
              "    }\n",
              "\n",
              "    .dataframe tbody tr th {\n",
              "        vertical-align: top;\n",
              "    }\n",
              "\n",
              "    .dataframe thead th {\n",
              "        text-align: right;\n",
              "    }\n",
              "</style>\n",
              "<table border=\"1\" class=\"dataframe\">\n",
              "  <thead>\n",
              "    <tr style=\"text-align: right;\">\n",
              "      <th></th>\n",
              "      <th>date</th>\n",
              "      <th>user</th>\n",
              "      <th>message</th>\n",
              "      <th>year</th>\n",
              "    </tr>\n",
              "  </thead>\n",
              "  <tbody>\n",
              "    <tr>\n",
              "      <th>0</th>\n",
              "      <td>2022-02-25 09:41:00</td>\n",
              "      <td>group_notification</td>\n",
              "      <td>Messages and calls are end-to-end encrypted. N...</td>\n",
              "      <td>2022</td>\n",
              "    </tr>\n",
              "    <tr>\n",
              "      <th>1</th>\n",
              "      <td>2022-02-25 09:41:00</td>\n",
              "      <td>group_notification</td>\n",
              "      <td>Shivesh created group \"MS Mech\"\\n</td>\n",
              "      <td>2022</td>\n",
              "    </tr>\n",
              "    <tr>\n",
              "      <th>2</th>\n",
              "      <td>2022-02-25 09:41:00</td>\n",
              "      <td>group_notification</td>\n",
              "      <td>Shivesh added you\\n</td>\n",
              "      <td>2022</td>\n",
              "    </tr>\n",
              "    <tr>\n",
              "      <th>3</th>\n",
              "      <td>2022-02-25 09:41:00</td>\n",
              "      <td>Shivesh</td>\n",
              "      <td>&lt;Media omitted&gt;\\n</td>\n",
              "      <td>2022</td>\n",
              "    </tr>\n",
              "    <tr>\n",
              "      <th>4</th>\n",
              "      <td>2022-02-25 09:43:00</td>\n",
              "      <td>Jithin Vinod</td>\n",
              "      <td>&lt;Media omitted&gt;\\n</td>\n",
              "      <td>2022</td>\n",
              "    </tr>\n",
              "  </tbody>\n",
              "</table>\n",
              "</div>\n",
              "      <button class=\"colab-df-convert\" onclick=\"convertToInteractive('df-0227e785-06fd-4ca6-90c0-026f0e84aa7c')\"\n",
              "              title=\"Convert this dataframe to an interactive table.\"\n",
              "              style=\"display:none;\">\n",
              "        \n",
              "  <svg xmlns=\"http://www.w3.org/2000/svg\" height=\"24px\"viewBox=\"0 0 24 24\"\n",
              "       width=\"24px\">\n",
              "    <path d=\"M0 0h24v24H0V0z\" fill=\"none\"/>\n",
              "    <path d=\"M18.56 5.44l.94 2.06.94-2.06 2.06-.94-2.06-.94-.94-2.06-.94 2.06-2.06.94zm-11 1L8.5 8.5l.94-2.06 2.06-.94-2.06-.94L8.5 2.5l-.94 2.06-2.06.94zm10 10l.94 2.06.94-2.06 2.06-.94-2.06-.94-.94-2.06-.94 2.06-2.06.94z\"/><path d=\"M17.41 7.96l-1.37-1.37c-.4-.4-.92-.59-1.43-.59-.52 0-1.04.2-1.43.59L10.3 9.45l-7.72 7.72c-.78.78-.78 2.05 0 2.83L4 21.41c.39.39.9.59 1.41.59.51 0 1.02-.2 1.41-.59l7.78-7.78 2.81-2.81c.8-.78.8-2.07 0-2.86zM5.41 20L4 18.59l7.72-7.72 1.47 1.35L5.41 20z\"/>\n",
              "  </svg>\n",
              "      </button>\n",
              "      \n",
              "  <style>\n",
              "    .colab-df-container {\n",
              "      display:flex;\n",
              "      flex-wrap:wrap;\n",
              "      gap: 12px;\n",
              "    }\n",
              "\n",
              "    .colab-df-convert {\n",
              "      background-color: #E8F0FE;\n",
              "      border: none;\n",
              "      border-radius: 50%;\n",
              "      cursor: pointer;\n",
              "      display: none;\n",
              "      fill: #1967D2;\n",
              "      height: 32px;\n",
              "      padding: 0 0 0 0;\n",
              "      width: 32px;\n",
              "    }\n",
              "\n",
              "    .colab-df-convert:hover {\n",
              "      background-color: #E2EBFA;\n",
              "      box-shadow: 0px 1px 2px rgba(60, 64, 67, 0.3), 0px 1px 3px 1px rgba(60, 64, 67, 0.15);\n",
              "      fill: #174EA6;\n",
              "    }\n",
              "\n",
              "    [theme=dark] .colab-df-convert {\n",
              "      background-color: #3B4455;\n",
              "      fill: #D2E3FC;\n",
              "    }\n",
              "\n",
              "    [theme=dark] .colab-df-convert:hover {\n",
              "      background-color: #434B5C;\n",
              "      box-shadow: 0px 1px 3px 1px rgba(0, 0, 0, 0.15);\n",
              "      filter: drop-shadow(0px 1px 2px rgba(0, 0, 0, 0.3));\n",
              "      fill: #FFFFFF;\n",
              "    }\n",
              "  </style>\n",
              "\n",
              "      <script>\n",
              "        const buttonEl =\n",
              "          document.querySelector('#df-0227e785-06fd-4ca6-90c0-026f0e84aa7c button.colab-df-convert');\n",
              "        buttonEl.style.display =\n",
              "          google.colab.kernel.accessAllowed ? 'block' : 'none';\n",
              "\n",
              "        async function convertToInteractive(key) {\n",
              "          const element = document.querySelector('#df-0227e785-06fd-4ca6-90c0-026f0e84aa7c');\n",
              "          const dataTable =\n",
              "            await google.colab.kernel.invokeFunction('convertToInteractive',\n",
              "                                                     [key], {});\n",
              "          if (!dataTable) return;\n",
              "\n",
              "          const docLinkHtml = 'Like what you see? Visit the ' +\n",
              "            '<a target=\"_blank\" href=https://colab.research.google.com/notebooks/data_table.ipynb>data table notebook</a>'\n",
              "            + ' to learn more about interactive tables.';\n",
              "          element.innerHTML = '';\n",
              "          dataTable['output_type'] = 'display_data';\n",
              "          await google.colab.output.renderOutput(dataTable, element);\n",
              "          const docLink = document.createElement('div');\n",
              "          docLink.innerHTML = docLinkHtml;\n",
              "          element.appendChild(docLink);\n",
              "        }\n",
              "      </script>\n",
              "    </div>\n",
              "  </div>\n",
              "  "
            ],
            "text/plain": [
              "                 date                user  \\\n",
              "0 2022-02-25 09:41:00  group_notification   \n",
              "1 2022-02-25 09:41:00  group_notification   \n",
              "2 2022-02-25 09:41:00  group_notification   \n",
              "3 2022-02-25 09:41:00             Shivesh   \n",
              "4 2022-02-25 09:43:00        Jithin Vinod   \n",
              "\n",
              "                                             message  year  \n",
              "0  Messages and calls are end-to-end encrypted. N...  2022  \n",
              "1                  Shivesh created group \"MS Mech\"\\n  2022  \n",
              "2                                Shivesh added you\\n  2022  \n",
              "3                                  <Media omitted>\\n  2022  \n",
              "4                                  <Media omitted>\\n  2022  "
            ]
          },
          "execution_count": 57,
          "metadata": {},
          "output_type": "execute_result"
        }
      ],
      "source": [
        "#now we extract year from date column\n",
        "df['year']=df['date'].dt.year\n",
        "\n",
        "df.head()"
      ]
    },
    {
      "cell_type": "code",
      "execution_count": null,
      "metadata": {
        "id": "mt_n72ZOvQDI"
      },
      "outputs": [],
      "source": [
        "#to extract month name\n",
        "df['month']=df['date'].dt.month_name()"
      ]
    },
    {
      "cell_type": "code",
      "execution_count": null,
      "metadata": {
        "id": "Q_louY3MvoYL"
      },
      "outputs": [],
      "source": [
        "# to extract day/date of month\n",
        "df['day']=df['date'].dt.day"
      ]
    },
    {
      "cell_type": "code",
      "execution_count": null,
      "metadata": {
        "id": "E00yk7OJv2vb"
      },
      "outputs": [],
      "source": [
        "df['hour']=df['date'].dt.hour"
      ]
    },
    {
      "cell_type": "code",
      "execution_count": null,
      "metadata": {
        "colab": {
          "base_uri": "https://localhost:8080/",
          "height": 337
        },
        "id": "CZN4Q5afBSRs",
        "outputId": "581c752d-7aa9-431e-bb2f-a2f23db55153"
      },
      "outputs": [
        {
          "data": {
            "text/html": [
              "\n",
              "  <div id=\"df-ee93446f-00d3-4a56-957a-750f10a50acc\">\n",
              "    <div class=\"colab-df-container\">\n",
              "      <div>\n",
              "<style scoped>\n",
              "    .dataframe tbody tr th:only-of-type {\n",
              "        vertical-align: middle;\n",
              "    }\n",
              "\n",
              "    .dataframe tbody tr th {\n",
              "        vertical-align: top;\n",
              "    }\n",
              "\n",
              "    .dataframe thead th {\n",
              "        text-align: right;\n",
              "    }\n",
              "</style>\n",
              "<table border=\"1\" class=\"dataframe\">\n",
              "  <thead>\n",
              "    <tr style=\"text-align: right;\">\n",
              "      <th></th>\n",
              "      <th>date</th>\n",
              "      <th>user</th>\n",
              "      <th>message</th>\n",
              "      <th>year</th>\n",
              "      <th>month</th>\n",
              "      <th>day</th>\n",
              "      <th>hour</th>\n",
              "    </tr>\n",
              "  </thead>\n",
              "  <tbody>\n",
              "    <tr>\n",
              "      <th>0</th>\n",
              "      <td>2022-02-25 09:41:00</td>\n",
              "      <td>group_notification</td>\n",
              "      <td>Messages and calls are end-to-end encrypted. N...</td>\n",
              "      <td>2022</td>\n",
              "      <td>February</td>\n",
              "      <td>25</td>\n",
              "      <td>9</td>\n",
              "    </tr>\n",
              "    <tr>\n",
              "      <th>1</th>\n",
              "      <td>2022-02-25 09:41:00</td>\n",
              "      <td>group_notification</td>\n",
              "      <td>Shivesh created group \"MS Mech\"\\n</td>\n",
              "      <td>2022</td>\n",
              "      <td>February</td>\n",
              "      <td>25</td>\n",
              "      <td>9</td>\n",
              "    </tr>\n",
              "    <tr>\n",
              "      <th>2</th>\n",
              "      <td>2022-02-25 09:41:00</td>\n",
              "      <td>group_notification</td>\n",
              "      <td>Shivesh added you\\n</td>\n",
              "      <td>2022</td>\n",
              "      <td>February</td>\n",
              "      <td>25</td>\n",
              "      <td>9</td>\n",
              "    </tr>\n",
              "    <tr>\n",
              "      <th>3</th>\n",
              "      <td>2022-02-25 09:41:00</td>\n",
              "      <td>Shivesh</td>\n",
              "      <td>&lt;Media omitted&gt;\\n</td>\n",
              "      <td>2022</td>\n",
              "      <td>February</td>\n",
              "      <td>25</td>\n",
              "      <td>9</td>\n",
              "    </tr>\n",
              "    <tr>\n",
              "      <th>4</th>\n",
              "      <td>2022-02-25 09:43:00</td>\n",
              "      <td>Jithin Vinod</td>\n",
              "      <td>&lt;Media omitted&gt;\\n</td>\n",
              "      <td>2022</td>\n",
              "      <td>February</td>\n",
              "      <td>25</td>\n",
              "      <td>9</td>\n",
              "    </tr>\n",
              "  </tbody>\n",
              "</table>\n",
              "</div>\n",
              "      <button class=\"colab-df-convert\" onclick=\"convertToInteractive('df-ee93446f-00d3-4a56-957a-750f10a50acc')\"\n",
              "              title=\"Convert this dataframe to an interactive table.\"\n",
              "              style=\"display:none;\">\n",
              "        \n",
              "  <svg xmlns=\"http://www.w3.org/2000/svg\" height=\"24px\"viewBox=\"0 0 24 24\"\n",
              "       width=\"24px\">\n",
              "    <path d=\"M0 0h24v24H0V0z\" fill=\"none\"/>\n",
              "    <path d=\"M18.56 5.44l.94 2.06.94-2.06 2.06-.94-2.06-.94-.94-2.06-.94 2.06-2.06.94zm-11 1L8.5 8.5l.94-2.06 2.06-.94-2.06-.94L8.5 2.5l-.94 2.06-2.06.94zm10 10l.94 2.06.94-2.06 2.06-.94-2.06-.94-.94-2.06-.94 2.06-2.06.94z\"/><path d=\"M17.41 7.96l-1.37-1.37c-.4-.4-.92-.59-1.43-.59-.52 0-1.04.2-1.43.59L10.3 9.45l-7.72 7.72c-.78.78-.78 2.05 0 2.83L4 21.41c.39.39.9.59 1.41.59.51 0 1.02-.2 1.41-.59l7.78-7.78 2.81-2.81c.8-.78.8-2.07 0-2.86zM5.41 20L4 18.59l7.72-7.72 1.47 1.35L5.41 20z\"/>\n",
              "  </svg>\n",
              "      </button>\n",
              "      \n",
              "  <style>\n",
              "    .colab-df-container {\n",
              "      display:flex;\n",
              "      flex-wrap:wrap;\n",
              "      gap: 12px;\n",
              "    }\n",
              "\n",
              "    .colab-df-convert {\n",
              "      background-color: #E8F0FE;\n",
              "      border: none;\n",
              "      border-radius: 50%;\n",
              "      cursor: pointer;\n",
              "      display: none;\n",
              "      fill: #1967D2;\n",
              "      height: 32px;\n",
              "      padding: 0 0 0 0;\n",
              "      width: 32px;\n",
              "    }\n",
              "\n",
              "    .colab-df-convert:hover {\n",
              "      background-color: #E2EBFA;\n",
              "      box-shadow: 0px 1px 2px rgba(60, 64, 67, 0.3), 0px 1px 3px 1px rgba(60, 64, 67, 0.15);\n",
              "      fill: #174EA6;\n",
              "    }\n",
              "\n",
              "    [theme=dark] .colab-df-convert {\n",
              "      background-color: #3B4455;\n",
              "      fill: #D2E3FC;\n",
              "    }\n",
              "\n",
              "    [theme=dark] .colab-df-convert:hover {\n",
              "      background-color: #434B5C;\n",
              "      box-shadow: 0px 1px 3px 1px rgba(0, 0, 0, 0.15);\n",
              "      filter: drop-shadow(0px 1px 2px rgba(0, 0, 0, 0.3));\n",
              "      fill: #FFFFFF;\n",
              "    }\n",
              "  </style>\n",
              "\n",
              "      <script>\n",
              "        const buttonEl =\n",
              "          document.querySelector('#df-ee93446f-00d3-4a56-957a-750f10a50acc button.colab-df-convert');\n",
              "        buttonEl.style.display =\n",
              "          google.colab.kernel.accessAllowed ? 'block' : 'none';\n",
              "\n",
              "        async function convertToInteractive(key) {\n",
              "          const element = document.querySelector('#df-ee93446f-00d3-4a56-957a-750f10a50acc');\n",
              "          const dataTable =\n",
              "            await google.colab.kernel.invokeFunction('convertToInteractive',\n",
              "                                                     [key], {});\n",
              "          if (!dataTable) return;\n",
              "\n",
              "          const docLinkHtml = 'Like what you see? Visit the ' +\n",
              "            '<a target=\"_blank\" href=https://colab.research.google.com/notebooks/data_table.ipynb>data table notebook</a>'\n",
              "            + ' to learn more about interactive tables.';\n",
              "          element.innerHTML = '';\n",
              "          dataTable['output_type'] = 'display_data';\n",
              "          await google.colab.output.renderOutput(dataTable, element);\n",
              "          const docLink = document.createElement('div');\n",
              "          docLink.innerHTML = docLinkHtml;\n",
              "          element.appendChild(docLink);\n",
              "        }\n",
              "      </script>\n",
              "    </div>\n",
              "  </div>\n",
              "  "
            ],
            "text/plain": [
              "                 date                user  \\\n",
              "0 2022-02-25 09:41:00  group_notification   \n",
              "1 2022-02-25 09:41:00  group_notification   \n",
              "2 2022-02-25 09:41:00  group_notification   \n",
              "3 2022-02-25 09:41:00             Shivesh   \n",
              "4 2022-02-25 09:43:00        Jithin Vinod   \n",
              "\n",
              "                                             message  year     month  day  \\\n",
              "0  Messages and calls are end-to-end encrypted. N...  2022  February   25   \n",
              "1                  Shivesh created group \"MS Mech\"\\n  2022  February   25   \n",
              "2                                Shivesh added you\\n  2022  February   25   \n",
              "3                                  <Media omitted>\\n  2022  February   25   \n",
              "4                                  <Media omitted>\\n  2022  February   25   \n",
              "\n",
              "   hour  \n",
              "0     9  \n",
              "1     9  \n",
              "2     9  \n",
              "3     9  \n",
              "4     9  "
            ]
          },
          "execution_count": 61,
          "metadata": {},
          "output_type": "execute_result"
        }
      ],
      "source": [
        "df.head()"
      ]
    },
    {
      "cell_type": "code",
      "execution_count": null,
      "metadata": {
        "colab": {
          "base_uri": "https://localhost:8080/"
        },
        "id": "iEUYMv9jBUgd",
        "outputId": "b0790048-2992-4214-e298-9da8c10a04d2"
      },
      "outputs": [
        {
          "data": {
            "text/plain": [
              "(24, 7)"
            ]
          },
          "execution_count": 62,
          "metadata": {},
          "output_type": "execute_result"
        }
      ],
      "source": [
        "# total message sent by rupesh\n",
        "df[df['user']=='Rupesh Kataria'].shape"
      ]
    },
    {
      "cell_type": "code",
      "execution_count": null,
      "metadata": {
        "id": "TpIDL2tbTVDU"
      },
      "outputs": [],
      "source": [
        "words =[]\n",
        "for message in df['message']:\n",
        "  words.extend(message.split())"
      ]
    },
    {
      "cell_type": "code",
      "execution_count": null,
      "metadata": {
        "colab": {
          "base_uri": "https://localhost:8080/"
        },
        "id": "XgEVlRhvT5F8",
        "outputId": "948a125d-228d-4165-ac69-b20989adaba4"
      },
      "outputs": [
        {
          "data": {
            "text/plain": [
              "1938"
            ]
          },
          "execution_count": 64,
          "metadata": {},
          "output_type": "execute_result"
        }
      ],
      "source": [
        "len(words)"
      ]
    },
    {
      "cell_type": "code",
      "execution_count": null,
      "metadata": {
        "colab": {
          "base_uri": "https://localhost:8080/"
        },
        "id": "_hx_HPR2UxfG",
        "outputId": "987c6fbd-e9da-4e7e-a5c8-bf576936707b"
      },
      "outputs": [
        {
          "name": "stdout",
          "output_type": "stream",
          "text": [
            "Looking in indexes: https://pypi.org/simple, https://us-python.pkg.dev/colab-wheels/public/simple/\n",
            "Requirement already satisfied: urlextract in /usr/local/lib/python3.8/dist-packages (1.7.1)\n",
            "Requirement already satisfied: idna in /usr/local/lib/python3.8/dist-packages (from urlextract) (2.10)\n",
            "Requirement already satisfied: platformdirs in /usr/local/lib/python3.8/dist-packages (from urlextract) (2.6.0)\n",
            "Requirement already satisfied: uritools in /usr/local/lib/python3.8/dist-packages (from urlextract) (4.0.0)\n",
            "Requirement already satisfied: filelock in /usr/local/lib/python3.8/dist-packages (from urlextract) (3.8.2)\n"
          ]
        }
      ],
      "source": [
        "!pip install urlextract\n",
        "from urlextract import  URLExtract\n",
        "extractor =URLExtract()"
      ]
    },
    {
      "cell_type": "code",
      "execution_count": null,
      "metadata": {
        "id": "cQ7wzaltl2yp"
      },
      "outputs": [],
      "source": [
        "links=[]\n",
        "for message in df['message']:\n",
        "  links.extend(extractor.find_urls(message))"
      ]
    },
    {
      "cell_type": "code",
      "execution_count": null,
      "metadata": {
        "id": "6c_rpxu-m5f_"
      },
      "outputs": [],
      "source": [
        "len(links)"
      ]
    },
    {
      "cell_type": "code",
      "execution_count": null,
      "metadata": {
        "id": "wyckPkBpm8w8"
      },
      "outputs": [],
      "source": [
        "x=df['user'].value_counts().head()"
      ]
    },
    {
      "cell_type": "code",
      "execution_count": null,
      "metadata": {
        "id": "hcyX66_VqiPS"
      },
      "outputs": [],
      "source": [
        "import matplotlib.pyplot as plt"
      ]
    },
    {
      "cell_type": "code",
      "execution_count": null,
      "metadata": {
        "id": "8G3xyzwQqrkB"
      },
      "outputs": [],
      "source": [
        "name=x.index\n",
        "count=x.values"
      ]
    },
    {
      "cell_type": "code",
      "execution_count": null,
      "metadata": {
        "id": "m5cEsNDkrBOa"
      },
      "outputs": [],
      "source": [
        "plt.bar(name,count)\n",
        "plt.xticks(rotation ='vertical')"
      ]
    },
    {
      "cell_type": "code",
      "execution_count": null,
      "metadata": {
        "id": "yBSPWaN9rW9o"
      },
      "outputs": [],
      "source": [
        "round((df['user'].value_counts()/df.shape[0])*100,2).reset_index().rename(columns={'index':'name','user':'percent'})"
      ]
    },
    {
      "cell_type": "code",
      "execution_count": null,
      "metadata": {
        "id": "cjkq8Fambixl"
      },
      "outputs": [],
      "source": [
        "words"
      ]
    },
    {
      "cell_type": "code",
      "execution_count": null,
      "metadata": {
        "id": "Wom_o324cCl1"
      },
      "outputs": [],
      "source": [
        "words=[]\n",
        "for message in df['message']:\n",
        "  words.extend(message.split())"
      ]
    },
    {
      "cell_type": "code",
      "execution_count": null,
      "metadata": {
        "id": "RHARSYrucf6y"
      },
      "outputs": [],
      "source": [
        "#to calculate most frequent 20 words\n",
        "from collections import Counter\n",
        "pd.DataFrame(Counter(words).most_common(20))"
      ]
    },
    {
      "cell_type": "code",
      "execution_count": null,
      "metadata": {
        "id": "ah86fVmKdN0U"
      },
      "outputs": [],
      "source": [
        "#remove group message like someone get added or removed\n",
        "#remove media omitted message\n",
        "#remove stop words\n",
        "\n",
        "temp=df[df['user']!='group_notification']\n",
        "temp=temp[temp['message']!='<Media omitted>\\n']\n",
        "#in this message are not written in english they are written in hienglish english+hindi\n",
        "#so we cannot use nltk library to remove stopwords\n",
        "f=open('/content/stop_hinglish.txt','r')\n",
        "stop_words=f.read()\n",
        "print(stop_words)"
      ]
    },
    {
      "cell_type": "code",
      "execution_count": null,
      "metadata": {
        "id": "OUrXPHmml9Vc"
      },
      "outputs": [],
      "source": [
        "words=[]\n",
        "for message in temp['message']:\n",
        "    for  word in message.lower().split():\n",
        "      if word not in stop_words:\n",
        "         words.append(word)"
      ]
    },
    {
      "cell_type": "code",
      "execution_count": null,
      "metadata": {
        "id": "GTv1PLLgmm9O"
      },
      "outputs": [],
      "source": [
        "from collections import Counter\n",
        "pd.DataFrame(Counter(words).most_common(20))"
      ]
    },
    {
      "cell_type": "code",
      "execution_count": null,
      "metadata": {
        "id": "2fNjNVwf7wwe"
      },
      "outputs": [],
      "source": [
        "!pip install emoji"
      ]
    },
    {
      "cell_type": "code",
      "execution_count": null,
      "metadata": {
        "id": "D4ZwQBNLn8f6"
      },
      "outputs": [],
      "source": [
        "import emoji"
      ]
    },
    {
      "cell_type": "code",
      "execution_count": null,
      "metadata": {
        "id": "RxvxsxLFDApF"
      },
      "outputs": [],
      "source": [
        "emojis =[]\n",
        "for message in df['message']:\n",
        "  emojis.extend([c for c in message if c in emoji.EMOJI_DATA])"
      ]
    },
    {
      "cell_type": "code",
      "execution_count": null,
      "metadata": {
        "id": "3JVB4d9EEMps"
      },
      "outputs": [],
      "source": [
        "pd.DataFrame(Counter(emojis).most_common(len(Counter(emojis))))"
      ]
    },
    {
      "cell_type": "code",
      "execution_count": null,
      "metadata": {
        "id": "bzFm5En6FdPJ"
      },
      "outputs": [],
      "source": [
        "df['month_num'] =df['date'].dt.month"
      ]
    },
    {
      "cell_type": "code",
      "execution_count": null,
      "metadata": {
        "id": "wka7YHSn94Yy"
      },
      "outputs": [],
      "source": [
        "#counting message in different month of the year\n",
        "df.groupby(['year','month_num']).count()['message']"
      ]
    },
    {
      "cell_type": "code",
      "execution_count": null,
      "metadata": {
        "colab": {
          "background_save": true
        },
        "id": "woQec20l-qSi"
      },
      "outputs": [],
      "source": [
        "timeline = df.groupby(['year','month_num','month']).count()['message'].reset_index()"
      ]
    },
    {
      "cell_type": "code",
      "execution_count": null,
      "metadata": {
        "id": "Hd1_E6kJ_Ehl"
      },
      "outputs": [],
      "source": []
    }
  ],
  "metadata": {
    "colab": {
      "provenance": []
    },
    "kernelspec": {
      "display_name": "Python 3",
      "name": "python3"
    },
    "language_info": {
      "name": "python"
    }
  },
  "nbformat": 4,
  "nbformat_minor": 0
}